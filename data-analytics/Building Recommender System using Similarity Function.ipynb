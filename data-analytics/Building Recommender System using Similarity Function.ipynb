{
 "cells": [
  {
   "cell_type": "markdown",
   "metadata": {},
   "source": [
    "## Import Basics Library and File Uploading"
   ]
  },
  {
   "cell_type": "code",
   "execution_count": 1,
   "metadata": {},
   "outputs": [],
   "source": [
    "import pandas as pd\n",
    "import numpy as np\n",
    "\n",
    "movie_rating_df = pd.read_csv('https://dqlab-dataset.s3-ap-southeast-1.amazonaws.com/movie_rating_df.csv')"
   ]
  },
  {
   "cell_type": "code",
   "execution_count": 2,
   "metadata": {},
   "outputs": [
    {
     "name": "stdout",
     "output_type": "stream",
     "text": [
      "      tconst titleType            primaryTitle           originalTitle  \\\n",
      "0  tt0000001     short              Carmencita              Carmencita   \n",
      "1  tt0000002     short  Le clown et ses chiens  Le clown et ses chiens   \n",
      "2  tt0000003     short          Pauvre Pierrot          Pauvre Pierrot   \n",
      "3  tt0000004     short             Un bon bock             Un bon bock   \n",
      "4  tt0000005     short        Blacksmith Scene        Blacksmith Scene   \n",
      "\n",
      "   isAdult  startYear  endYear  runtimeMinutes                    genres  \\\n",
      "0        0     1894.0      NaN             1.0         Documentary,Short   \n",
      "1        0     1892.0      NaN             5.0           Animation,Short   \n",
      "2        0     1892.0      NaN             4.0  Animation,Comedy,Romance   \n",
      "3        0     1892.0      NaN            12.0           Animation,Short   \n",
      "4        0     1893.0      NaN             1.0              Comedy,Short   \n",
      "\n",
      "   averageRating  numVotes  \n",
      "0            5.6      1608  \n",
      "1            6.0       197  \n",
      "2            6.5      1285  \n",
      "3            6.1       121  \n",
      "4            6.1      2050  \n",
      "<class 'pandas.core.frame.DataFrame'>\n",
      "RangeIndex: 751614 entries, 0 to 751613\n",
      "Data columns (total 11 columns):\n",
      " #   Column          Non-Null Count   Dtype  \n",
      "---  ------          --------------   -----  \n",
      " 0   tconst          751614 non-null  object \n",
      " 1   titleType       751614 non-null  object \n",
      " 2   primaryTitle    751614 non-null  object \n",
      " 3   originalTitle   751614 non-null  object \n",
      " 4   isAdult         751614 non-null  int64  \n",
      " 5   startYear       751614 non-null  float64\n",
      " 6   endYear         16072 non-null   float64\n",
      " 7   runtimeMinutes  751614 non-null  float64\n",
      " 8   genres          486766 non-null  object \n",
      " 9   averageRating   751614 non-null  float64\n",
      " 10  numVotes        751614 non-null  int64  \n",
      "dtypes: float64(4), int64(2), object(5)\n",
      "memory usage: 63.1+ MB\n",
      "None\n"
     ]
    }
   ],
   "source": [
    "## print 5 data teratas dari movie_rating_df\n",
    "print(movie_rating_df.head())\n",
    "\n",
    "## print info tipe data tiap kolom pada tabel\n",
    "print(movie_rating_df.info())"
   ]
  },
  {
   "cell_type": "code",
   "execution_count": 3,
   "metadata": {},
   "outputs": [
    {
     "name": "stdout",
     "output_type": "stream",
     "text": [
      "       nconst          primaryName birthYear deathYear  \\\n",
      "0   nm1774132    Nathan McLaughlin      1973        \\N   \n",
      "1  nm10683464        Bridge Andrew        \\N        \\N   \n",
      "2   nm1021485    Brandon Fransvaag        \\N        \\N   \n",
      "3   nm6940929   Erwin van der Lely        \\N        \\N   \n",
      "4   nm5764974  Svetlana Shypitsyna        \\N        \\N   \n",
      "\n",
      "                    primaryProfession                           knownForTitles  \n",
      "0  special_effects,make_up_department  tt0417686,tt1713976,tt1891860,tt0454839  \n",
      "1                               actor                                tt7718088  \n",
      "2                       miscellaneous                                tt0168790  \n",
      "3                       miscellaneous                                tt4232168  \n",
      "4                             actress                                tt3014168  \n",
      "<class 'pandas.core.frame.DataFrame'>\n",
      "RangeIndex: 1000 entries, 0 to 999\n",
      "Data columns (total 6 columns):\n",
      " #   Column             Non-Null Count  Dtype \n",
      "---  ------             --------------  ----- \n",
      " 0   nconst             1000 non-null   object\n",
      " 1   primaryName        1000 non-null   object\n",
      " 2   birthYear          1000 non-null   object\n",
      " 3   deathYear          1000 non-null   object\n",
      " 4   primaryProfession  891 non-null    object\n",
      " 5   knownForTitles     1000 non-null   object\n",
      "dtypes: object(6)\n",
      "memory usage: 47.0+ KB\n",
      "None\n"
     ]
    }
   ],
   "source": [
    "# menambahkan dataframe actor_name.csv ke dalam variabel name_df\n",
    "name_df = pd.read_csv('https://dqlab-dataset.s3-ap-southeast-1.amazonaws.com/actor_name.csv')\n",
    "\n",
    "# print lima data teratas dari name_df\n",
    "print(name_df.head())\n",
    "\n",
    "# print info data dari tiap kolom pada tabel name_df\n",
    "print(name_df.info())"
   ]
  },
  {
   "cell_type": "code",
   "execution_count": 4,
   "metadata": {},
   "outputs": [
    {
     "name": "stdout",
     "output_type": "stream",
     "text": [
      "      tconst                   director_name  \\\n",
      "0  tt0011414                  David Kirkland   \n",
      "1  tt0011890               Roy William Neill   \n",
      "2  tt0014341  Buster Keaton,John G. Blystone   \n",
      "3  tt0018054                Cecil B. DeMille   \n",
      "4  tt0024151                     James Cruze   \n",
      "\n",
      "                                       writer_name  \n",
      "0                          John Emerson,Anita Loos  \n",
      "1     Arthur F. Goodrich,Burns Mantle,Mary Murillo  \n",
      "2  Jean C. Havez,Clyde Bruckman,Joseph A. Mitchell  \n",
      "3                                Jeanie Macpherson  \n",
      "4                 Max Miller,Wells Root,Jack Jevne  \n",
      "<class 'pandas.core.frame.DataFrame'>\n",
      "RangeIndex: 986 entries, 0 to 985\n",
      "Data columns (total 3 columns):\n",
      " #   Column         Non-Null Count  Dtype \n",
      "---  ------         --------------  ----- \n",
      " 0   tconst         986 non-null    object\n",
      " 1   director_name  986 non-null    object\n",
      " 2   writer_name    986 non-null    object\n",
      "dtypes: object(3)\n",
      "memory usage: 23.2+ KB\n",
      "None\n"
     ]
    }
   ],
   "source": [
    "# menambahkan director and writer dataframe ke dalam variabel director_writer\n",
    "director_writers = pd.read_csv('https://dqlab-dataset.s3-ap-southeast-1.amazonaws.com/directors_writers.csv')\n",
    "\n",
    "# menampilkan lima data teratas dari director_writers\n",
    "print(director_writers.head())\n",
    "\n",
    "# menampilkan tipe data tiap kolom\n",
    "print(director_writers.info())"
   ]
  },
  {
   "cell_type": "markdown",
   "metadata": {},
   "source": [
    "### Convert into list"
   ]
  },
  {
   "cell_type": "code",
   "execution_count": 5,
   "metadata": {},
   "outputs": [
    {
     "name": "stdout",
     "output_type": "stream",
     "text": [
      "      tconst                      director_name  \\\n",
      "0  tt0011414                   [David Kirkland]   \n",
      "1  tt0011890                [Roy William Neill]   \n",
      "2  tt0014341  [Buster Keaton, John G. Blystone]   \n",
      "3  tt0018054                 [Cecil B. DeMille]   \n",
      "4  tt0024151                      [James Cruze]   \n",
      "\n",
      "                                         writer_name  \n",
      "0                         [John Emerson, Anita Loos]  \n",
      "1   [Arthur F. Goodrich, Burns Mantle, Mary Murillo]  \n",
      "2  [Jean C. Havez, Clyde Bruckman, Joseph A. Mitc...  \n",
      "3                                [Jeanie Macpherson]  \n",
      "4               [Max Miller, Wells Root, Jack Jevne]  \n"
     ]
    }
   ],
   "source": [
    "# mengubah kolom 'director_name' dan 'writer_name' dari director_writers\n",
    "director_writers['director_name'] = director_writers['director_name'].apply(lambda row: row.split(','))\n",
    "director_writers['writer_name'] = director_writers['writer_name'].apply(lambda row: row.split(','))\n",
    "\n",
    "# print 5 data teratas\n",
    "print(director_writers.head())"
   ]
  },
  {
   "cell_type": "markdown",
   "metadata": {},
   "source": [
    "## Cleaning and Processing Table Cast"
   ]
  },
  {
   "cell_type": "markdown",
   "metadata": {},
   "source": [
    "### Update name_df"
   ]
  },
  {
   "cell_type": "code",
   "execution_count": 6,
   "metadata": {
    "scrolled": true
   },
   "outputs": [
    {
     "name": "stdout",
     "output_type": "stream",
     "text": [
      "       nconst          primaryName                           knownForTitles\n",
      "0   nm1774132    Nathan McLaughlin  tt0417686,tt1713976,tt1891860,tt0454839\n",
      "1  nm10683464        Bridge Andrew                                tt7718088\n",
      "2   nm1021485    Brandon Fransvaag                                tt0168790\n",
      "3   nm6940929   Erwin van der Lely                                tt4232168\n",
      "4   nm5764974  Svetlana Shypitsyna                                tt3014168\n"
     ]
    }
   ],
   "source": [
    "# update name_df dengan hanya menggunakan kolom 'nconst', 'primaryName', 'knownForTitles'\n",
    "name_df = name_df[['nconst', 'primaryName', 'knownForTitles']]\n",
    "\n",
    "print(name_df.head())"
   ]
  },
  {
   "cell_type": "markdown",
   "metadata": {},
   "source": [
    "### Movies per Actor"
   ]
  },
  {
   "cell_type": "code",
   "execution_count": 7,
   "metadata": {
    "scrolled": true
   },
   "outputs": [
    {
     "name": "stdout",
     "output_type": "stream",
     "text": [
      "[4 1 2 3]\n",
      "       nconst          primaryName  \\\n",
      "0   nm1774132    Nathan McLaughlin   \n",
      "1  nm10683464        Bridge Andrew   \n",
      "2   nm1021485    Brandon Fransvaag   \n",
      "3   nm6940929   Erwin van der Lely   \n",
      "4   nm5764974  Svetlana Shypitsyna   \n",
      "\n",
      "                                 knownForTitles  \n",
      "0  [tt0417686, tt1713976, tt1891860, tt0454839]  \n",
      "1                                   [tt7718088]  \n",
      "2                                   [tt0168790]  \n",
      "3                                   [tt4232168]  \n",
      "4                                   [tt3014168]  \n"
     ]
    }
   ],
   "source": [
    "# melakukan pengecekan variasi jumlah film yang dibintangi aktor\n",
    "print(name_df['knownForTitles'].apply(lambda x:len(x.split(','))).unique())\n",
    "\n",
    "# mengubah 'knownForTitles' menjadi list to list\n",
    "name_df['knownForTitles'] = name_df['knownForTitles'].apply(lambda x:x.split(','))\n",
    "\n",
    "# menampilkan lima data teratas\n",
    "print(name_df.head())"
   ]
  },
  {
   "cell_type": "markdown",
   "metadata": {},
   "source": [
    "### Korespondensi 1-1"
   ]
  },
  {
   "cell_type": "code",
   "execution_count": 8,
   "metadata": {},
   "outputs": [
    {
     "name": "stdout",
     "output_type": "stream",
     "text": [
      "         nconst        primaryName knownForTitles\n",
      "0     nm1774132  Nathan McLaughlin      tt0417686\n",
      "0     nm1774132  Nathan McLaughlin      tt1713976\n",
      "0     nm1774132  Nathan McLaughlin      tt1891860\n",
      "0     nm1774132  Nathan McLaughlin      tt0454839\n",
      "1    nm10683464      Bridge Andrew      tt7718088\n",
      "..          ...                ...            ...\n",
      "998   nm5245804      Eliza Jenkins      tt1464058\n",
      "999   nm0948460         Greg Yolen      tt0436869\n",
      "999   nm0948460         Greg Yolen      tt0476663\n",
      "999   nm0948460         Greg Yolen      tt0109723\n",
      "999   nm0948460         Greg Yolen      tt0364484\n",
      "\n",
      "[1918 rows x 3 columns]\n"
     ]
    }
   ],
   "source": [
    "# Membuat tabel korespondensi 1-1\n",
    "df_uni = []\n",
    "\n",
    "for x in ['knownForTitles']:\n",
    "    # mengulang indeks dari tiap baris dan tiap kolom dari kolom 'knownForTitles'\n",
    "    idx = name_df.index.repeat(name_df['knownForTitles'].str.len())\n",
    "    # memecah values dari tiap list dan menggabungkan dengan kolom lain menjadi sebuah dataframe\n",
    "    df1 = pd.DataFrame({x: np.concatenate(name_df[x].values)})\n",
    "    # mengganti indeks dataframe dengan indeks yang telah didefinisikan sebelumnya\n",
    "    df1.index = idx\n",
    "    # masukkan dataframe yang telah terbentuk ke dalam variabel df_uni\n",
    "    df_uni.append(df1)\n",
    "    \n",
    "# menggabungkan semua dataframe\n",
    "df_concat = pd.concat(df_uni, axis=1)\n",
    "\n",
    "# melakukan left join dengan value dari dataframe awal\n",
    "unnested_df = df_concat.join(name_df.drop(['knownForTitles'],1), how='left')\n",
    "\n",
    "# select kolom sesuai dengan dataframe awal\n",
    "unnested_df = unnested_df[name_df.columns.tolist()]\n",
    "print(unnested_df)"
   ]
  },
  {
   "cell_type": "markdown",
   "metadata": {},
   "source": [
    "## Nesting primaryName group by knownForTitles"
   ]
  },
  {
   "cell_type": "code",
   "execution_count": 9,
   "metadata": {
    "scrolled": true
   },
   "outputs": [
    {
     "name": "stdout",
     "output_type": "stream",
     "text": [
      "     knownForTitles           cast_name\n",
      "0         tt0008125    [Charles Harley]\n",
      "1         tt0009706    [Charles Harley]\n",
      "2         tt0010304  [Natalie Talmadge]\n",
      "3         tt0011414  [Natalie Talmadge]\n",
      "4         tt0011890  [Natalie Talmadge]\n",
      "...             ...                 ...\n",
      "1893      tt9610496  [Stefano Baffetti]\n",
      "1894      tt9714030        [Kevin Kain]\n",
      "1895      tt9741820   [Caroline Plyler]\n",
      "1896      tt9759814     [Ethan Francis]\n",
      "1897      tt9856236     [Nuala Maguire]\n",
      "\n",
      "[1898 rows x 2 columns]\n"
     ]
    }
   ],
   "source": [
    "unnested_drop = unnested_df.drop(['nconst'], axis=1)\n",
    "\n",
    "df_uni = []\n",
    "\n",
    "for col in ['primaryName']:\n",
    "    df1 = unnested_drop.groupby(['knownForTitles'])[col].apply(list)\n",
    "    df_uni.append(df1)\n",
    "    \n",
    "df_grouped = pd.concat(df_uni, axis=1).reset_index()\n",
    "df_grouped.columns = ['knownForTitles','cast_name']\n",
    "print(df_grouped)"
   ]
  },
  {
   "cell_type": "markdown",
   "metadata": {},
   "source": [
    "## Joining with Movie Table"
   ]
  },
  {
   "cell_type": "markdown",
   "metadata": {},
   "source": [
    "### Join Table"
   ]
  },
  {
   "cell_type": "code",
   "execution_count": 10,
   "metadata": {
    "scrolled": true
   },
   "outputs": [
    {
     "name": "stdout",
     "output_type": "stream",
     "text": [
      "  knownForTitles           cast_name     tconst titleType  \\\n",
      "0      tt0011414  [Natalie Talmadge]  tt0011414     movie   \n",
      "1      tt0011890  [Natalie Talmadge]  tt0011890     movie   \n",
      "2      tt0014341  [Natalie Talmadge]  tt0014341     movie   \n",
      "3      tt0018054     [Reeka Roberts]  tt0018054     movie   \n",
      "4      tt0024151     [James Hackett]  tt0024151     movie   \n",
      "\n",
      "             primaryTitle           originalTitle  isAdult  startYear  \\\n",
      "0         The Love Expert         The Love Expert        0     1920.0   \n",
      "1               Yes or No               Yes or No        0     1920.0   \n",
      "2         Our Hospitality         Our Hospitality        0     1923.0   \n",
      "3       The King of Kings       The King of Kings        0     1927.0   \n",
      "4  I Cover the Waterfront  I Cover the Waterfront        0     1933.0   \n",
      "\n",
      "   endYear  runtimeMinutes                   genres  averageRating  numVotes  \\\n",
      "0      NaN            60.0           Comedy,Romance            4.9       136   \n",
      "1      NaN            72.0                      NaN            6.3         7   \n",
      "2      NaN            65.0  Comedy,Romance,Thriller            7.8      9621   \n",
      "3      NaN           155.0  Biography,Drama,History            7.3      1826   \n",
      "4      NaN            80.0            Drama,Romance            6.3       455   \n",
      "\n",
      "                       director_name  \\\n",
      "0                   [David Kirkland]   \n",
      "1                [Roy William Neill]   \n",
      "2  [Buster Keaton, John G. Blystone]   \n",
      "3                 [Cecil B. DeMille]   \n",
      "4                      [James Cruze]   \n",
      "\n",
      "                                         writer_name  \n",
      "0                         [John Emerson, Anita Loos]  \n",
      "1   [Arthur F. Goodrich, Burns Mantle, Mary Murillo]  \n",
      "2  [Jean C. Havez, Clyde Bruckman, Joseph A. Mitc...  \n",
      "3                                [Jeanie Macpherson]  \n",
      "4               [Max Miller, Wells Root, Jack Jevne]  \n"
     ]
    }
   ],
   "source": [
    "# join antara movie table dan cast table\n",
    "# cast table merupakan table 'df_grouped'\n",
    "base_df = pd.merge(df_grouped, movie_rating_df, left_on='knownForTitles', right_on='tconst', how='inner')\n",
    "\n",
    "#join antara base_df dan director_writer table\n",
    "base_df = pd.merge(base_df, director_writers, left_on='tconst', right_on='tconst', how='left')\n",
    "\n",
    "print(base_df.head())"
   ]
  },
  {
   "cell_type": "markdown",
   "metadata": {},
   "source": [
    "### Cleaning data"
   ]
  },
  {
   "cell_type": "code",
   "execution_count": 11,
   "metadata": {
    "scrolled": true
   },
   "outputs": [
    {
     "name": "stdout",
     "output_type": "stream",
     "text": [
      "cast_name           0\n",
      "tconst              0\n",
      "titleType           0\n",
      "primaryTitle        0\n",
      "originalTitle       0\n",
      "isAdult             0\n",
      "startYear           0\n",
      "endYear           950\n",
      "runtimeMinutes      0\n",
      "genres              0\n",
      "averageRating       0\n",
      "numVotes            0\n",
      "director_name      74\n",
      "writer_name        74\n",
      "dtype: int64\n"
     ]
    }
   ],
   "source": [
    "# melakukan drop terhadap kolom 'knownForTitles'\n",
    "base_drop = base_df.drop(['knownForTitles'], axis=1)\n",
    "\n",
    "# mengganti nilai NULL pada kolom 'genres' dengan 'Unknown'\n",
    "base_drop['genres'] = base_drop['genres'].fillna('Unknown')\n",
    "\n",
    "# melakukan perhitungan jumlah nilai NULL pada setiap kolom\n",
    "print(base_drop.isnull().sum())\n",
    "\n",
    "# mengganti nilai NULL pada kolom 'director_name' dan 'writer_name' dengan 'Unknown'\n",
    "base_drop[['director_name','writer_name']] = base_drop[['director_name','writer_name']].fillna('Unknown')\n",
    "\n",
    "# mengubah kolom 'genres' menjadi list to list\n",
    "base_drop['genres'] = base_drop['genres'].apply(lambda x: x.split(','))"
   ]
  },
  {
   "cell_type": "markdown",
   "metadata": {},
   "source": [
    "### Reformat table base_df"
   ]
  },
  {
   "cell_type": "code",
   "execution_count": 12,
   "metadata": {},
   "outputs": [
    {
     "name": "stdout",
     "output_type": "stream",
     "text": [
      "                    title   type   start  duration  \\\n",
      "0         The Love Expert  movie  1920.0      60.0   \n",
      "1               Yes or No  movie  1920.0      72.0   \n",
      "2         Our Hospitality  movie  1923.0      65.0   \n",
      "3       The King of Kings  movie  1927.0     155.0   \n",
      "4  I Cover the Waterfront  movie  1933.0      80.0   \n",
      "\n",
      "                        genres  rating  votes           cast_name  \\\n",
      "0            [Comedy, Romance]     4.9    136  [Natalie Talmadge]   \n",
      "1                    [Unknown]     6.3      7  [Natalie Talmadge]   \n",
      "2  [Comedy, Romance, Thriller]     7.8   9621  [Natalie Talmadge]   \n",
      "3  [Biography, Drama, History]     7.3   1826     [Reeka Roberts]   \n",
      "4             [Drama, Romance]     6.3    455     [James Hackett]   \n",
      "\n",
      "                       director_name  \\\n",
      "0                   [David Kirkland]   \n",
      "1                [Roy William Neill]   \n",
      "2  [Buster Keaton, John G. Blystone]   \n",
      "3                 [Cecil B. DeMille]   \n",
      "4                      [James Cruze]   \n",
      "\n",
      "                                         writer_name  \n",
      "0                         [John Emerson, Anita Loos]  \n",
      "1   [Arthur F. Goodrich, Burns Mantle, Mary Murillo]  \n",
      "2  [Jean C. Havez, Clyde Bruckman, Joseph A. Mitc...  \n",
      "3                                [Jeanie Macpherson]  \n",
      "4               [Max Miller, Wells Root, Jack Jevne]  \n"
     ]
    }
   ],
   "source": [
    "# drop kolom 'tconst', 'isAdult', 'endYear', 'originalTitle'\n",
    "base_drop2 = base_drop.drop(['tconst', 'isAdult', 'endYear', 'originalTitle'], axis=1)\n",
    "\n",
    "base_drop2 = base_drop2[['primaryTitle', 'titleType', 'startYear', 'runtimeMinutes', 'genres', 'averageRating', 'numVotes',\n",
    "                         'cast_name', 'director_name', 'writer_name']]\n",
    "#'''Rename Kolom :\n",
    "#primaryTitle -> title\n",
    "#titleType -> type\n",
    "#startYear -> start\n",
    "#runtimeMinutes -> duration\n",
    "#averageRating -> rating\n",
    "#numVotes -> votes\n",
    "#'''\n",
    "base_drop2.columns = ['title', 'type', 'start', 'duration', 'genres', 'rating', 'votes', 'cast_name',\n",
    "                      'director_name', 'writer_name']\n",
    "\n",
    "print(base_drop2.head())"
   ]
  },
  {
   "cell_type": "markdown",
   "metadata": {},
   "source": [
    "## Creating content-based recommender system"
   ]
  },
  {
   "cell_type": "markdown",
   "metadata": {},
   "source": [
    "### Klasifikasi Metadata"
   ]
  },
  {
   "cell_type": "code",
   "execution_count": 13,
   "metadata": {},
   "outputs": [
    {
     "name": "stdout",
     "output_type": "stream",
     "text": [
      "                    title   type   start  duration  \\\n",
      "0         The Love Expert  movie  1920.0      60.0   \n",
      "1               Yes or No  movie  1920.0      72.0   \n",
      "2         Our Hospitality  movie  1923.0      65.0   \n",
      "3       The King of Kings  movie  1927.0     155.0   \n",
      "4  I Cover the Waterfront  movie  1933.0      80.0   \n",
      "\n",
      "                        genres  rating  votes           cast_name  \\\n",
      "0            [Comedy, Romance]     4.9    136  [Natalie Talmadge]   \n",
      "1                    [Unknown]     6.3      7  [Natalie Talmadge]   \n",
      "2  [Comedy, Romance, Thriller]     7.8   9621  [Natalie Talmadge]   \n",
      "3  [Biography, Drama, History]     7.3   1826     [Reeka Roberts]   \n",
      "4             [Drama, Romance]     6.3    455     [James Hackett]   \n",
      "\n",
      "                       director_name  \\\n",
      "0                   [David Kirkland]   \n",
      "1                [Roy William Neill]   \n",
      "2  [Buster Keaton, John G. Blystone]   \n",
      "3                 [Cecil B. DeMille]   \n",
      "4                      [James Cruze]   \n",
      "\n",
      "                                         writer_name  \n",
      "0                         [John Emerson, Anita Loos]  \n",
      "1   [Arthur F. Goodrich, Burns Mantle, Mary Murillo]  \n",
      "2  [Jean C. Havez, Clyde Bruckman, Joseph A. Mitc...  \n",
      "3                                [Jeanie Macpherson]  \n",
      "4               [Max Miller, Wells Root, Jack Jevne]  \n"
     ]
    }
   ],
   "source": [
    "# Klasifikasi berdasarkan 'title', 'cast_name', 'genres', 'director_name', 'writer_name'\n",
    "feature_df = base_drop2[['title', 'cast_name', 'genres', 'director_name', 'writer_name']]\n",
    "\n",
    "print(base_drop2.head())"
   ]
  },
  {
   "cell_type": "markdown",
   "metadata": {},
   "source": [
    "## Membuat fungsi sanitize"
   ]
  },
  {
   "cell_type": "code",
   "execution_count": 14,
   "metadata": {},
   "outputs": [
    {
     "name": "stderr",
     "output_type": "stream",
     "text": [
      "c:\\users\\lenovo\\appdata\\local\\programs\\python\\python36\\lib\\site-packages\\ipykernel_launcher.py:18: SettingWithCopyWarning: \n",
      "A value is trying to be set on a copy of a slice from a DataFrame.\n",
      "Try using .loc[row_indexer,col_indexer] = value instead\n",
      "\n",
      "See the caveats in the documentation: https://pandas.pydata.org/pandas-docs/stable/user_guide/indexing.html#returning-a-view-versus-a-copy\n"
     ]
    }
   ],
   "source": [
    "# membuat fungsi sanitize untuk melakukan strip spaces dari setiap row dan elemennya\n",
    "def sanitize(x):\n",
    "    try:\n",
    "        # jika cell berisi list\n",
    "        if isinstance(x,list):\n",
    "            return [i.replace(' ','').lower() for i in x]\n",
    "        # jika cell berisi string\n",
    "        else:\n",
    "            return [x.replace(' ','').lower()]\n",
    "    except:\n",
    "        print(x)\n",
    "        \n",
    "# kolom yang digunakan : 'cast_name', 'genres', 'director_name', 'writer_name'\n",
    "feature_cols = ['cast_name', 'genres', 'director_name', 'writer_name']\n",
    "\n",
    "# menggunakan fungsi sanitize\n",
    "for col in feature_cols:\n",
    "    feature_df[col] = feature_df[col].apply(sanitize)"
   ]
  },
  {
   "cell_type": "markdown",
   "metadata": {},
   "source": [
    "### Membuat fungsi soup_feature"
   ]
  },
  {
   "cell_type": "code",
   "execution_count": 15,
   "metadata": {
    "scrolled": true
   },
   "outputs": [
    {
     "name": "stderr",
     "output_type": "stream",
     "text": [
      "c:\\users\\lenovo\\appdata\\local\\programs\\python\\python36\\lib\\site-packages\\ipykernel_launcher.py:7: SettingWithCopyWarning: \n",
      "A value is trying to be set on a copy of a slice from a DataFrame.\n",
      "Try using .loc[row_indexer,col_indexer] = value instead\n",
      "\n",
      "See the caveats in the documentation: https://pandas.pydata.org/pandas-docs/stable/user_guide/indexing.html#returning-a-view-versus-a-copy\n",
      "  import sys\n"
     ]
    }
   ],
   "source": [
    "# membuat fungsi untuk metadata soup (menggabungkan semua feature menjadi 1 bagian kalimat) untuk setiap judul\n",
    "def soup_feature(x):\n",
    "    # menggunakan kolom 'cast_name', 'genres', 'director_name', 'writer_name'\n",
    "    return ' '.join(x['cast_name']) + ' '.join(x['genres']) + ' '.join(x['director_name']) + ' '.join(x['writer_name'])\n",
    "\n",
    "# membuat soup menjadi satu kolom\n",
    "feature_df['soup'] = feature_df.apply(soup_feature, axis=1)"
   ]
  },
  {
   "cell_type": "markdown",
   "metadata": {},
   "source": [
    "### Membuat CountVectorizer dan melakukan fit terhadap feature_df['soup']"
   ]
  },
  {
   "cell_type": "code",
   "execution_count": 16,
   "metadata": {},
   "outputs": [
    {
     "name": "stdout",
     "output_type": "stream",
     "text": [
      "CountVectorizer(analyzer='word', binary=False, decode_error='strict',\n",
      "                dtype=<class 'numpy.int64'>, encoding='utf-8', input='content',\n",
      "                lowercase=True, max_df=1.0, max_features=None, min_df=1,\n",
      "                ngram_range=(1, 1), preprocessor=None, stop_words='english',\n",
      "                strip_accents=None, token_pattern='(?u)\\\\b\\\\w\\\\w+\\\\b',\n",
      "                tokenizer=None, vocabulary=None)\n",
      "(1060, 10151)\n"
     ]
    }
   ],
   "source": [
    "# import CountVectorizer\n",
    "from sklearn.feature_extraction.text import CountVectorizer\n",
    "\n",
    "# definisikan CountVectorizer dan ubah kolom 'soup' menjadi vektor\n",
    "count = CountVectorizer(stop_words='english')\n",
    "count_matrix = count.fit_transform(feature_df['soup'])\n",
    "\n",
    "print(count)\n",
    "print(count_matrix.shape)"
   ]
  },
  {
   "cell_type": "markdown",
   "metadata": {},
   "source": [
    "### Membuat model cosine similarity antara count matrix"
   ]
  },
  {
   "cell_type": "code",
   "execution_count": 17,
   "metadata": {},
   "outputs": [
    {
     "name": "stdout",
     "output_type": "stream",
     "text": [
      "[[1.         0.         0.19245009 ... 0.         0.         0.        ]\n",
      " [0.         1.         0.         ... 0.         0.         0.        ]\n",
      " [0.19245009 0.         1.         ... 0.         0.         0.        ]\n",
      " ...\n",
      " [0.         0.         0.         ... 1.         0.         0.        ]\n",
      " [0.         0.         0.         ... 0.         1.         0.        ]\n",
      " [0.         0.         0.         ... 0.         0.         1.        ]]\n"
     ]
    }
   ],
   "source": [
    "# import cosine_similarity\n",
    "from sklearn.metrics.pairwise import cosine_similarity\n",
    "\n",
    "# menggunakan cosine_similarity terhadap count_matrix\n",
    "cosine_sim = cosine_similarity(count_matrix, count_matrix)\n",
    "\n",
    "print(cosine_sim)"
   ]
  },
  {
   "cell_type": "markdown",
   "metadata": {},
   "source": [
    "### Membuat content-based recommender system"
   ]
  },
  {
   "cell_type": "code",
   "execution_count": 18,
   "metadata": {},
   "outputs": [],
   "source": [
    "indices = pd.Series(feature_df.index, index=feature_df['title']).drop_duplicates()\n",
    "\n",
    "def content_recommender(title):\n",
    "    # mengambil index dari title film yang disebutkan\n",
    "    idx = indices[title]\n",
    "    # mengubah array dalam variable cosine_sim menjadi list\n",
    "    sim_scores = list(enumerate(cosine_sim[idx]))\n",
    "    # mengurutkan film dari score similarity tertinggi\n",
    "    sim_scores = sorted(sim_scores, key=lambda x:x[1], reverse=True)\n",
    "    # mengambil list judul dari item kedua sampai ke-11\n",
    "    sim_scores = sim_scores[1:11]\n",
    "    # mengambil indeks dari judul-judul film yang muncul dari sim_scores\n",
    "    movie_indices = [i[0] for i in sim_scores]\n",
    "    # memanggil kembali berdasarkan indeks dari movie_indices\n",
    "    return base_df.iloc[movie_indices]"
   ]
  },
  {
   "cell_type": "code",
   "execution_count": 19,
   "metadata": {},
   "outputs": [
    {
     "name": "stdout",
     "output_type": "stream",
     "text": [
      "    knownForTitles                   cast_name      tconst titleType  \\\n",
      "556     tt10068158          [Hiroki Matsukawa]  tt10068158     movie   \n",
      "695      tt1651954              [Noriko Okaku]   tt1651954     short   \n",
      "191      tt0107875               [Simon Mayal]   tt0107875     movie   \n",
      "863      tt3270412            [Manaaki Warren]   tt3270412     short   \n",
      "792      tt2262227               [Gizem Gülen]   tt2262227     movie   \n",
      "896      tt3896100  [Cristina Carrión Márquez]   tt3896100     movie   \n",
      "258      tt0136748          [Francisco Bretas]   tt0136748     movie   \n",
      "383      tt0286336          [Francisco Bretas]   tt0286336  tvSeries   \n",
      "161      tt0100477             [Barry O'Neill]   tt0100477     movie   \n",
      "723      tt1794595            [Guy Michelmore]   tt1794595  tvSeries   \n",
      "\n",
      "                      primaryTitle                      originalTitle  \\\n",
      "556  Made in Abyss: Journey's Dawn  Made in Abyss: Tabidachi no Yoake   \n",
      "695                           Spin                               Spin   \n",
      "191    The Princess and the Goblin        The Princess and the Goblin   \n",
      "863                  Over the Moon                      Over the Moon   \n",
      "792               The Book of Life                   The Book of Life   \n",
      "896               Capture the Flag                  Atrapa la bandera   \n",
      "258                     Cassiopéia                         Cassiopéia   \n",
      "383   The Animals of Farthing Wood       The Animals of Farthing Wood   \n",
      "161        The Rescuers Down Under            The Rescuers Down Under   \n",
      "723                The Jungle Book                    The Jungle Book   \n",
      "\n",
      "     isAdult  startYear  endYear  runtimeMinutes                       genres  \\\n",
      "556        0     2019.0      NaN           139.0  Adventure,Animation,Fantasy   \n",
      "695        0     2010.0      NaN             5.0       Action,Animation,Short   \n",
      "191        0     1991.0      NaN            82.0   Adventure,Animation,Comedy   \n",
      "863        0     2013.0      NaN             8.0      Action,Animation,Comedy   \n",
      "792        0     2014.0      NaN            95.0   Adventure,Animation,Comedy   \n",
      "896        0     2015.0      NaN            94.0   Adventure,Animation,Comedy   \n",
      "258        0     1996.0      NaN            80.0   Adventure,Animation,Family   \n",
      "383        0     1993.0   1995.0            25.0    Adventure,Animation,Drama   \n",
      "161        0     1990.0      NaN            77.0    Adventure,Animation,Crime   \n",
      "723        0     2010.0      NaN            11.0   Adventure,Animation,Family   \n",
      "\n",
      "     averageRating  numVotes                           director_name  \\\n",
      "556            7.4        81                       [Masayuki Kojima]   \n",
      "695            6.9        26                           [Max Hattler]   \n",
      "191            6.8      2350                          [József Gémes]   \n",
      "863            6.8        15                      [James Cunningham]   \n",
      "792            7.3     62190                    [Jorge R. Gutiérrez]   \n",
      "896            5.8      3307                          [Enrique Gato]   \n",
      "258            6.8       187                         [Clóvis Vieira]   \n",
      "383            8.3      3057  [Elphin Lloyd-Jones, Philippe Leclerc]   \n",
      "161            6.9     36308            [Hendel Butoy, Mike Gabriel]   \n",
      "723            4.7        89                    [Tapaas Chakravarti]   \n",
      "\n",
      "                                           writer_name  \n",
      "556                                 [Akihito Tsukushi]  \n",
      "695                                      [Max Hattler]  \n",
      "191                    [Robin Lyons, George MacDonald]  \n",
      "863       [James Cunningham, Timothy Kidd, Karl Wills]  \n",
      "792                [Jorge R. Gutiérrez, Doug Langdale]  \n",
      "896  [Jordi Gasull, Javier López Barreira, Neil Lan...  \n",
      "258  [Aloisio Castro, José 'Zezo' Feliciano, Robin ...  \n",
      "383  [Valerie Georgeson, Colin Dann, Jenny McDade, ...  \n",
      "161  [Jim Cox, Karey Kirkpatrick, Byron Simpson, Jo...  \n",
      "723  [David Fox, Jill Brett, Darren Jones, Rachel M...  \n"
     ]
    }
   ],
   "source": [
    "print(content_recommender('The Lion King'))"
   ]
  }
 ],
 "metadata": {
  "kernelspec": {
   "display_name": "Python 3",
   "language": "python",
   "name": "python3"
  },
  "language_info": {
   "codemirror_mode": {
    "name": "ipython",
    "version": 3
   },
   "file_extension": ".py",
   "mimetype": "text/x-python",
   "name": "python",
   "nbconvert_exporter": "python",
   "pygments_lexer": "ipython3",
   "version": "3.6.3"
  }
 },
 "nbformat": 4,
 "nbformat_minor": 4
}
