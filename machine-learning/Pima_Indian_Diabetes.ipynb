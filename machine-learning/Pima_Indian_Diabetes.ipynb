{
  "nbformat": 4,
  "nbformat_minor": 0,
  "metadata": {
    "colab": {
      "name": "Pima Indian Diabetes.ipynb",
      "provenance": []
    },
    "kernelspec": {
      "name": "python3",
      "display_name": "Python 3"
    }
  },
  "cells": [
    {
      "cell_type": "code",
      "metadata": {
        "id": "pnXPgYevEGty",
        "colab_type": "code",
        "colab": {}
      },
      "source": [
        "# import library\n",
        "import pandas as pd"
      ],
      "execution_count": null,
      "outputs": []
    },
    {
      "cell_type": "code",
      "metadata": {
        "id": "KAgVUW3QEKa-",
        "colab_type": "code",
        "colab": {}
      },
      "source": [
        "# Load the Dataset\n",
        "diabetes = pd.read_csv('diabetes.csv')"
      ],
      "execution_count": null,
      "outputs": []
    },
    {
      "cell_type": "code",
      "metadata": {
        "id": "Tv3xqQtrEVAb",
        "colab_type": "code",
        "colab": {
          "base_uri": "https://localhost:8080/",
          "height": 197
        },
        "outputId": "4e5da6a5-10b8-4ae5-9c3d-74be6c3b9090"
      },
      "source": [
        "# Show head of dataset\n",
        "diabetes.head()"
      ],
      "execution_count": null,
      "outputs": [
        {
          "output_type": "execute_result",
          "data": {
            "text/html": [
              "<div>\n",
              "<style scoped>\n",
              "    .dataframe tbody tr th:only-of-type {\n",
              "        vertical-align: middle;\n",
              "    }\n",
              "\n",
              "    .dataframe tbody tr th {\n",
              "        vertical-align: top;\n",
              "    }\n",
              "\n",
              "    .dataframe thead th {\n",
              "        text-align: right;\n",
              "    }\n",
              "</style>\n",
              "<table border=\"1\" class=\"dataframe\">\n",
              "  <thead>\n",
              "    <tr style=\"text-align: right;\">\n",
              "      <th></th>\n",
              "      <th>Pregnancies</th>\n",
              "      <th>Glucose</th>\n",
              "      <th>BloodPressure</th>\n",
              "      <th>SkinThickness</th>\n",
              "      <th>Insulin</th>\n",
              "      <th>BMI</th>\n",
              "      <th>DiabetesPedigreeFunction</th>\n",
              "      <th>Age</th>\n",
              "      <th>Outcome</th>\n",
              "    </tr>\n",
              "  </thead>\n",
              "  <tbody>\n",
              "    <tr>\n",
              "      <th>0</th>\n",
              "      <td>6</td>\n",
              "      <td>148</td>\n",
              "      <td>72</td>\n",
              "      <td>35</td>\n",
              "      <td>0</td>\n",
              "      <td>33.6</td>\n",
              "      <td>0.627</td>\n",
              "      <td>50</td>\n",
              "      <td>1</td>\n",
              "    </tr>\n",
              "    <tr>\n",
              "      <th>1</th>\n",
              "      <td>1</td>\n",
              "      <td>85</td>\n",
              "      <td>66</td>\n",
              "      <td>29</td>\n",
              "      <td>0</td>\n",
              "      <td>26.6</td>\n",
              "      <td>0.351</td>\n",
              "      <td>31</td>\n",
              "      <td>0</td>\n",
              "    </tr>\n",
              "    <tr>\n",
              "      <th>2</th>\n",
              "      <td>8</td>\n",
              "      <td>183</td>\n",
              "      <td>64</td>\n",
              "      <td>0</td>\n",
              "      <td>0</td>\n",
              "      <td>23.3</td>\n",
              "      <td>0.672</td>\n",
              "      <td>32</td>\n",
              "      <td>1</td>\n",
              "    </tr>\n",
              "    <tr>\n",
              "      <th>3</th>\n",
              "      <td>1</td>\n",
              "      <td>89</td>\n",
              "      <td>66</td>\n",
              "      <td>23</td>\n",
              "      <td>94</td>\n",
              "      <td>28.1</td>\n",
              "      <td>0.167</td>\n",
              "      <td>21</td>\n",
              "      <td>0</td>\n",
              "    </tr>\n",
              "    <tr>\n",
              "      <th>4</th>\n",
              "      <td>0</td>\n",
              "      <td>137</td>\n",
              "      <td>40</td>\n",
              "      <td>35</td>\n",
              "      <td>168</td>\n",
              "      <td>43.1</td>\n",
              "      <td>2.288</td>\n",
              "      <td>33</td>\n",
              "      <td>1</td>\n",
              "    </tr>\n",
              "  </tbody>\n",
              "</table>\n",
              "</div>"
            ],
            "text/plain": [
              "   Pregnancies  Glucose  BloodPressure  ...  DiabetesPedigreeFunction  Age  Outcome\n",
              "0            6      148             72  ...                     0.627   50        1\n",
              "1            1       85             66  ...                     0.351   31        0\n",
              "2            8      183             64  ...                     0.672   32        1\n",
              "3            1       89             66  ...                     0.167   21        0\n",
              "4            0      137             40  ...                     2.288   33        1\n",
              "\n",
              "[5 rows x 9 columns]"
            ]
          },
          "metadata": {
            "tags": []
          },
          "execution_count": 3
        }
      ]
    },
    {
      "cell_type": "code",
      "metadata": {
        "id": "poqKw7h2EacW",
        "colab_type": "code",
        "colab": {
          "base_uri": "https://localhost:8080/",
          "height": 301
        },
        "outputId": "76aeed1e-cfdf-4a61-a1f2-c9a988590e9b"
      },
      "source": [
        "diabetes.info()"
      ],
      "execution_count": null,
      "outputs": [
        {
          "output_type": "stream",
          "text": [
            "<class 'pandas.core.frame.DataFrame'>\n",
            "RangeIndex: 768 entries, 0 to 767\n",
            "Data columns (total 9 columns):\n",
            " #   Column                    Non-Null Count  Dtype  \n",
            "---  ------                    --------------  -----  \n",
            " 0   Pregnancies               768 non-null    int64  \n",
            " 1   Glucose                   768 non-null    int64  \n",
            " 2   BloodPressure             768 non-null    int64  \n",
            " 3   SkinThickness             768 non-null    int64  \n",
            " 4   Insulin                   768 non-null    int64  \n",
            " 5   BMI                       768 non-null    float64\n",
            " 6   DiabetesPedigreeFunction  768 non-null    float64\n",
            " 7   Age                       768 non-null    int64  \n",
            " 8   Outcome                   768 non-null    int64  \n",
            "dtypes: float64(2), int64(7)\n",
            "memory usage: 54.1 KB\n"
          ],
          "name": "stdout"
        }
      ]
    },
    {
      "cell_type": "code",
      "metadata": {
        "id": "iHExrhehEecm",
        "colab_type": "code",
        "colab": {}
      },
      "source": [
        "# Split into input (X) and output Y (Y)\n",
        "X = diabetes[diabetes.columns[:8]]\n",
        "\n",
        "Y = diabetes['Outcome']"
      ],
      "execution_count": null,
      "outputs": []
    },
    {
      "cell_type": "code",
      "metadata": {
        "id": "Jho1FfJdE7Lj",
        "colab_type": "code",
        "colab": {}
      },
      "source": [
        "# Standardize value from the dataset\n",
        "\n",
        "from sklearn.preprocessing import StandardScaler\n",
        "\n",
        "scaler = StandardScaler()\n",
        "scaler.fit(X)\n",
        "X = scaler.transform(X)"
      ],
      "execution_count": null,
      "outputs": []
    },
    {
      "cell_type": "code",
      "metadata": {
        "id": "GuFHlFj-FQQm",
        "colab_type": "code",
        "colab": {}
      },
      "source": [
        "# Train and Test Split dataset\n",
        "from sklearn.model_selection import train_test_split\n",
        "\n",
        "X_train, X_test, Y_train, Y_test = train_test_split(X, Y, test_size=0.33, random_state=42)"
      ],
      "execution_count": null,
      "outputs": []
    },
    {
      "cell_type": "code",
      "metadata": {
        "id": "gkFshNd4Fr0e",
        "colab_type": "code",
        "colab": {
          "base_uri": "https://localhost:8080/",
          "height": 87
        },
        "outputId": "1a2eadec-0526-4c42-bb30-62fbda828831"
      },
      "source": [
        "# Create SVC\n",
        "from sklearn.svm import SVC\n",
        "\n",
        "clf = SVC()\n",
        "clf.fit(X_train, Y_train)"
      ],
      "execution_count": null,
      "outputs": [
        {
          "output_type": "execute_result",
          "data": {
            "text/plain": [
              "SVC(C=1.0, break_ties=False, cache_size=200, class_weight=None, coef0=0.0,\n",
              "    decision_function_shape='ovr', degree=3, gamma='scale', kernel='rbf',\n",
              "    max_iter=-1, probability=False, random_state=None, shrinking=True,\n",
              "    tol=0.001, verbose=False)"
            ]
          },
          "metadata": {
            "tags": []
          },
          "execution_count": 8
        }
      ]
    },
    {
      "cell_type": "code",
      "metadata": {
        "id": "pI0isWNFGr-4",
        "colab_type": "code",
        "colab": {
          "base_uri": "https://localhost:8080/",
          "height": 34
        },
        "outputId": "d1118df1-fd68-403b-a4ff-95844f721581"
      },
      "source": [
        "# Score CLF\n",
        "\n",
        "clf.score(X_test, Y_test)"
      ],
      "execution_count": null,
      "outputs": [
        {
          "output_type": "execute_result",
          "data": {
            "text/plain": [
              "0.7559055118110236"
            ]
          },
          "metadata": {
            "tags": []
          },
          "execution_count": 9
        }
      ]
    },
    {
      "cell_type": "code",
      "metadata": {
        "id": "cqxkfHe0G7Pc",
        "colab_type": "code",
        "colab": {}
      },
      "source": [
        "# Create Predictions Using Keras (Make a neural network)"
      ],
      "execution_count": null,
      "outputs": []
    },
    {
      "cell_type": "code",
      "metadata": {
        "id": "bfEm3UzYHTs4",
        "colab_type": "code",
        "colab": {
          "base_uri": "https://localhost:8080/",
          "height": 34
        },
        "outputId": "2376ac24-56c7-4f78-d770-1270f3c301a8"
      },
      "source": [
        "# Import Keras Library\n",
        "from keras.models import Sequential\n",
        "from keras.layers import Dense"
      ],
      "execution_count": null,
      "outputs": [
        {
          "output_type": "stream",
          "text": [
            "Using TensorFlow backend.\n"
          ],
          "name": "stderr"
        }
      ]
    },
    {
      "cell_type": "code",
      "metadata": {
        "id": "ICaP3HAyHfi2",
        "colab_type": "code",
        "colab": {}
      },
      "source": [
        "# Define Keras Models\n",
        "model = Sequential()\n",
        "model.add(Dense(12, input_dim=8, activation='relu')) # Input Layer\n",
        "model.add(Dense(12, activation='relu')) # Hidden Layer\n",
        "model.add(Dense(1, activation='sigmoid')) # Output Layer"
      ],
      "execution_count": null,
      "outputs": []
    },
    {
      "cell_type": "code",
      "metadata": {
        "id": "EMu1aeQfILRf",
        "colab_type": "code",
        "colab": {}
      },
      "source": [
        "# Compile the models\n",
        "model.compile(loss='binary_crossentropy', optimizer='adam', metrics=['accuracy'])"
      ],
      "execution_count": null,
      "outputs": []
    },
    {
      "cell_type": "code",
      "metadata": {
        "id": "tJs8jBvxIkGy",
        "colab_type": "code",
        "colab": {
          "base_uri": "https://localhost:8080/",
          "height": 1000
        },
        "outputId": "179e6f56-ab38-452b-8b0f-17326873b34a"
      },
      "source": [
        "# Fit the models\n",
        "model.fit(X, Y, epochs=100, batch_size=10, verbose=1)"
      ],
      "execution_count": null,
      "outputs": [
        {
          "output_type": "stream",
          "text": [
            "Epoch 1/100\n",
            "768/768 [==============================] - 0s 224us/step - loss: 0.4222 - accuracy: 0.7995\n",
            "Epoch 2/100\n",
            "768/768 [==============================] - 0s 124us/step - loss: 0.4201 - accuracy: 0.7956\n",
            "Epoch 3/100\n",
            "768/768 [==============================] - 0s 117us/step - loss: 0.4196 - accuracy: 0.7995\n",
            "Epoch 4/100\n",
            "768/768 [==============================] - 0s 118us/step - loss: 0.4190 - accuracy: 0.7943\n",
            "Epoch 5/100\n",
            "768/768 [==============================] - 0s 112us/step - loss: 0.4182 - accuracy: 0.7995\n",
            "Epoch 6/100\n",
            "768/768 [==============================] - 0s 113us/step - loss: 0.4179 - accuracy: 0.7982\n",
            "Epoch 7/100\n",
            "768/768 [==============================] - 0s 114us/step - loss: 0.4182 - accuracy: 0.7917\n",
            "Epoch 8/100\n",
            "768/768 [==============================] - 0s 116us/step - loss: 0.4168 - accuracy: 0.7995\n",
            "Epoch 9/100\n",
            "768/768 [==============================] - 0s 113us/step - loss: 0.4169 - accuracy: 0.8021\n",
            "Epoch 10/100\n",
            "768/768 [==============================] - 0s 109us/step - loss: 0.4160 - accuracy: 0.8008\n",
            "Epoch 11/100\n",
            "768/768 [==============================] - 0s 112us/step - loss: 0.4147 - accuracy: 0.7995\n",
            "Epoch 12/100\n",
            "768/768 [==============================] - 0s 111us/step - loss: 0.4149 - accuracy: 0.7956\n",
            "Epoch 13/100\n",
            "768/768 [==============================] - 0s 115us/step - loss: 0.4140 - accuracy: 0.8008\n",
            "Epoch 14/100\n",
            "768/768 [==============================] - 0s 115us/step - loss: 0.4139 - accuracy: 0.7995\n",
            "Epoch 15/100\n",
            "768/768 [==============================] - 0s 113us/step - loss: 0.4133 - accuracy: 0.7995\n",
            "Epoch 16/100\n",
            "768/768 [==============================] - 0s 115us/step - loss: 0.4126 - accuracy: 0.7982\n",
            "Epoch 17/100\n",
            "768/768 [==============================] - 0s 113us/step - loss: 0.4122 - accuracy: 0.8008\n",
            "Epoch 18/100\n",
            "768/768 [==============================] - 0s 111us/step - loss: 0.4125 - accuracy: 0.7969\n",
            "Epoch 19/100\n",
            "768/768 [==============================] - 0s 110us/step - loss: 0.4108 - accuracy: 0.7995\n",
            "Epoch 20/100\n",
            "768/768 [==============================] - 0s 114us/step - loss: 0.4107 - accuracy: 0.7995\n",
            "Epoch 21/100\n",
            "768/768 [==============================] - 0s 117us/step - loss: 0.4104 - accuracy: 0.8086\n",
            "Epoch 22/100\n",
            "768/768 [==============================] - 0s 116us/step - loss: 0.4109 - accuracy: 0.7995\n",
            "Epoch 23/100\n",
            "768/768 [==============================] - 0s 113us/step - loss: 0.4103 - accuracy: 0.8060\n",
            "Epoch 24/100\n",
            "768/768 [==============================] - 0s 114us/step - loss: 0.4088 - accuracy: 0.8047\n",
            "Epoch 25/100\n",
            "768/768 [==============================] - 0s 119us/step - loss: 0.4080 - accuracy: 0.8034\n",
            "Epoch 26/100\n",
            "768/768 [==============================] - 0s 115us/step - loss: 0.4072 - accuracy: 0.8021\n",
            "Epoch 27/100\n",
            "768/768 [==============================] - 0s 123us/step - loss: 0.4071 - accuracy: 0.8060\n",
            "Epoch 28/100\n",
            "768/768 [==============================] - 0s 110us/step - loss: 0.4062 - accuracy: 0.7982\n",
            "Epoch 29/100\n",
            "768/768 [==============================] - 0s 111us/step - loss: 0.4063 - accuracy: 0.7995\n",
            "Epoch 30/100\n",
            "768/768 [==============================] - 0s 123us/step - loss: 0.4057 - accuracy: 0.8047\n",
            "Epoch 31/100\n",
            "768/768 [==============================] - 0s 115us/step - loss: 0.4053 - accuracy: 0.8008\n",
            "Epoch 32/100\n",
            "768/768 [==============================] - 0s 109us/step - loss: 0.4054 - accuracy: 0.8086\n",
            "Epoch 33/100\n",
            "768/768 [==============================] - 0s 111us/step - loss: 0.4041 - accuracy: 0.8086\n",
            "Epoch 34/100\n",
            "768/768 [==============================] - 0s 127us/step - loss: 0.4038 - accuracy: 0.8008\n",
            "Epoch 35/100\n",
            "768/768 [==============================] - 0s 109us/step - loss: 0.4024 - accuracy: 0.8086\n",
            "Epoch 36/100\n",
            "768/768 [==============================] - 0s 109us/step - loss: 0.4021 - accuracy: 0.8099\n",
            "Epoch 37/100\n",
            "768/768 [==============================] - 0s 109us/step - loss: 0.4026 - accuracy: 0.8034\n",
            "Epoch 38/100\n",
            "768/768 [==============================] - 0s 127us/step - loss: 0.4021 - accuracy: 0.8034\n",
            "Epoch 39/100\n",
            "768/768 [==============================] - 0s 110us/step - loss: 0.4011 - accuracy: 0.8112\n",
            "Epoch 40/100\n",
            "768/768 [==============================] - 0s 112us/step - loss: 0.4014 - accuracy: 0.8034\n",
            "Epoch 41/100\n",
            "768/768 [==============================] - 0s 110us/step - loss: 0.3990 - accuracy: 0.8073\n",
            "Epoch 42/100\n",
            "768/768 [==============================] - 0s 110us/step - loss: 0.4003 - accuracy: 0.8060\n",
            "Epoch 43/100\n",
            "768/768 [==============================] - 0s 113us/step - loss: 0.3987 - accuracy: 0.8151\n",
            "Epoch 44/100\n",
            "768/768 [==============================] - 0s 111us/step - loss: 0.3985 - accuracy: 0.8138\n",
            "Epoch 45/100\n",
            "768/768 [==============================] - 0s 111us/step - loss: 0.3976 - accuracy: 0.8099\n",
            "Epoch 46/100\n",
            "768/768 [==============================] - 0s 111us/step - loss: 0.3970 - accuracy: 0.8060\n",
            "Epoch 47/100\n",
            "768/768 [==============================] - 0s 115us/step - loss: 0.3982 - accuracy: 0.8112\n",
            "Epoch 48/100\n",
            "768/768 [==============================] - 0s 108us/step - loss: 0.3960 - accuracy: 0.8099\n",
            "Epoch 49/100\n",
            "768/768 [==============================] - 0s 111us/step - loss: 0.3952 - accuracy: 0.8151\n",
            "Epoch 50/100\n",
            "768/768 [==============================] - 0s 114us/step - loss: 0.3961 - accuracy: 0.8125\n",
            "Epoch 51/100\n",
            "768/768 [==============================] - 0s 112us/step - loss: 0.3946 - accuracy: 0.8125\n",
            "Epoch 52/100\n",
            "768/768 [==============================] - 0s 112us/step - loss: 0.3942 - accuracy: 0.8112\n",
            "Epoch 53/100\n",
            "768/768 [==============================] - 0s 122us/step - loss: 0.3935 - accuracy: 0.8138\n",
            "Epoch 54/100\n",
            "768/768 [==============================] - 0s 118us/step - loss: 0.3925 - accuracy: 0.8125\n",
            "Epoch 55/100\n",
            "768/768 [==============================] - 0s 110us/step - loss: 0.3933 - accuracy: 0.8138\n",
            "Epoch 56/100\n",
            "768/768 [==============================] - 0s 110us/step - loss: 0.3924 - accuracy: 0.8138\n",
            "Epoch 57/100\n",
            "768/768 [==============================] - 0s 108us/step - loss: 0.3924 - accuracy: 0.8138\n",
            "Epoch 58/100\n",
            "768/768 [==============================] - 0s 125us/step - loss: 0.3899 - accuracy: 0.8177\n",
            "Epoch 59/100\n",
            "768/768 [==============================] - 0s 115us/step - loss: 0.3902 - accuracy: 0.8177\n",
            "Epoch 60/100\n",
            "768/768 [==============================] - 0s 113us/step - loss: 0.3912 - accuracy: 0.8203\n",
            "Epoch 61/100\n",
            "768/768 [==============================] - 0s 118us/step - loss: 0.3886 - accuracy: 0.8190\n",
            "Epoch 62/100\n",
            "768/768 [==============================] - 0s 110us/step - loss: 0.3889 - accuracy: 0.8177\n",
            "Epoch 63/100\n",
            "768/768 [==============================] - 0s 112us/step - loss: 0.3876 - accuracy: 0.8177\n",
            "Epoch 64/100\n",
            "768/768 [==============================] - 0s 111us/step - loss: 0.3869 - accuracy: 0.8177\n",
            "Epoch 65/100\n",
            "768/768 [==============================] - 0s 114us/step - loss: 0.3876 - accuracy: 0.8164\n",
            "Epoch 66/100\n",
            "768/768 [==============================] - 0s 109us/step - loss: 0.3868 - accuracy: 0.8177\n",
            "Epoch 67/100\n",
            "768/768 [==============================] - 0s 121us/step - loss: 0.3858 - accuracy: 0.8177\n",
            "Epoch 68/100\n",
            "768/768 [==============================] - 0s 129us/step - loss: 0.3849 - accuracy: 0.8151\n",
            "Epoch 69/100\n",
            "768/768 [==============================] - 0s 109us/step - loss: 0.3853 - accuracy: 0.8203\n",
            "Epoch 70/100\n",
            "768/768 [==============================] - 0s 110us/step - loss: 0.3837 - accuracy: 0.8242\n",
            "Epoch 71/100\n",
            "768/768 [==============================] - 0s 124us/step - loss: 0.3826 - accuracy: 0.8203\n",
            "Epoch 72/100\n",
            "768/768 [==============================] - 0s 109us/step - loss: 0.3824 - accuracy: 0.8164\n",
            "Epoch 73/100\n",
            "768/768 [==============================] - 0s 116us/step - loss: 0.3839 - accuracy: 0.8177\n",
            "Epoch 74/100\n",
            "768/768 [==============================] - 0s 113us/step - loss: 0.3808 - accuracy: 0.8138\n",
            "Epoch 75/100\n",
            "768/768 [==============================] - 0s 109us/step - loss: 0.3797 - accuracy: 0.8203\n",
            "Epoch 76/100\n",
            "768/768 [==============================] - 0s 114us/step - loss: 0.3807 - accuracy: 0.8177\n",
            "Epoch 77/100\n",
            "768/768 [==============================] - 0s 110us/step - loss: 0.3787 - accuracy: 0.8216\n",
            "Epoch 78/100\n",
            "768/768 [==============================] - 0s 113us/step - loss: 0.3787 - accuracy: 0.8294\n",
            "Epoch 79/100\n",
            "768/768 [==============================] - 0s 111us/step - loss: 0.3791 - accuracy: 0.8190\n",
            "Epoch 80/100\n",
            "768/768 [==============================] - 0s 110us/step - loss: 0.3788 - accuracy: 0.8216\n",
            "Epoch 81/100\n",
            "768/768 [==============================] - 0s 112us/step - loss: 0.3777 - accuracy: 0.8203\n",
            "Epoch 82/100\n",
            "768/768 [==============================] - 0s 120us/step - loss: 0.3769 - accuracy: 0.8255\n",
            "Epoch 83/100\n",
            "768/768 [==============================] - 0s 109us/step - loss: 0.3751 - accuracy: 0.8255\n",
            "Epoch 84/100\n",
            "768/768 [==============================] - 0s 145us/step - loss: 0.3749 - accuracy: 0.8229\n",
            "Epoch 85/100\n",
            "768/768 [==============================] - 0s 114us/step - loss: 0.3753 - accuracy: 0.8216\n",
            "Epoch 86/100\n",
            "768/768 [==============================] - 0s 115us/step - loss: 0.3760 - accuracy: 0.8216\n",
            "Epoch 87/100\n",
            "768/768 [==============================] - 0s 112us/step - loss: 0.3718 - accuracy: 0.8242\n",
            "Epoch 88/100\n",
            "768/768 [==============================] - 0s 109us/step - loss: 0.3725 - accuracy: 0.8255\n",
            "Epoch 89/100\n",
            "768/768 [==============================] - 0s 112us/step - loss: 0.3709 - accuracy: 0.8294\n",
            "Epoch 90/100\n",
            "768/768 [==============================] - 0s 129us/step - loss: 0.3706 - accuracy: 0.8268\n",
            "Epoch 91/100\n",
            "768/768 [==============================] - 0s 133us/step - loss: 0.3705 - accuracy: 0.8229\n",
            "Epoch 92/100\n",
            "768/768 [==============================] - 0s 118us/step - loss: 0.3705 - accuracy: 0.8255\n",
            "Epoch 93/100\n",
            "768/768 [==============================] - 0s 113us/step - loss: 0.3689 - accuracy: 0.8268\n",
            "Epoch 94/100\n",
            "768/768 [==============================] - 0s 113us/step - loss: 0.3694 - accuracy: 0.8320\n",
            "Epoch 95/100\n",
            "768/768 [==============================] - 0s 118us/step - loss: 0.3692 - accuracy: 0.8190\n",
            "Epoch 96/100\n",
            "768/768 [==============================] - 0s 122us/step - loss: 0.3680 - accuracy: 0.8255\n",
            "Epoch 97/100\n",
            "768/768 [==============================] - 0s 111us/step - loss: 0.3686 - accuracy: 0.8294\n",
            "Epoch 98/100\n",
            "768/768 [==============================] - 0s 111us/step - loss: 0.3667 - accuracy: 0.8281\n",
            "Epoch 99/100\n",
            "768/768 [==============================] - 0s 112us/step - loss: 0.3663 - accuracy: 0.8281\n",
            "Epoch 100/100\n",
            "768/768 [==============================] - 0s 113us/step - loss: 0.3655 - accuracy: 0.8281\n"
          ],
          "name": "stdout"
        },
        {
          "output_type": "execute_result",
          "data": {
            "text/plain": [
              "<keras.callbacks.callbacks.History at 0x7f276e115f28>"
            ]
          },
          "metadata": {
            "tags": []
          },
          "execution_count": 16
        }
      ]
    },
    {
      "cell_type": "code",
      "metadata": {
        "id": "p-1bUZe4IzGq",
        "colab_type": "code",
        "colab": {}
      },
      "source": [
        "# Make class predictions with the model\n",
        "prediction = model.predict_classes(X)"
      ],
      "execution_count": null,
      "outputs": []
    },
    {
      "cell_type": "code",
      "metadata": {
        "id": "KiEEgvtNJDZI",
        "colab_type": "code",
        "colab": {
          "base_uri": "https://localhost:8080/",
          "height": 214
        },
        "outputId": "7ccf1206-14d6-407e-f82d-ff13d4fd020e"
      },
      "source": [
        "# Prediction results from the first 10 cases\n",
        "for i in range(10):\n",
        "  print('%s => %d (expected %d)' % (X[i].tolist(), prediction[i], Y[i]))"
      ],
      "execution_count": null,
      "outputs": [
        {
          "output_type": "stream",
          "text": [
            "[0.6399472601593604, 0.8483237946271883, 0.149640752628208, 0.9072699252723613, -0.6928905722954675, 0.20401277134626103, 0.4684919773786535, 1.4259954044228447] => 1 (expected 1)\n",
            "[-0.8448850534430228, -1.1233963609784168, -0.16054574674686284, 0.5309015587207732, -0.6928905722954675, -0.6844219461567741, -0.36506077757159927, -0.19067190513648613] => 0 (expected 0)\n",
            "[1.2338801856003137, 1.9437238810747468, -0.2639412465385531, -1.2882122129452358, -0.6928905722954675, -1.1032554558367764, 0.6043973178596731, -0.1055841520017845] => 1 (expected 1)\n",
            "[-0.8448850534430228, -0.9982077796701243, -0.16054574674686284, 0.15453319216918512, 0.12330164444496892, -0.49404307812040943, -0.9207626142051013, -1.0415494364835023] => 0 (expected 0)\n",
            "[-1.1418515161634994, 0.5040551960293843, -1.5046872440388366, 0.9072699252723613, 0.7658359427299933, 1.4097456022432373, 5.484909100466951, -0.020496398867082873] => 1 (expected 1)\n",
            "[0.34298079743888377, -0.15318485583915073, 0.2530362524198983, -1.2882122129452358, -0.6928905722954675, -0.8113411915143505, -0.8180785791749976, -0.27575965827118776] => 0 (expected 0)\n",
            "[-0.2509521280020695, -1.3424763782679283, -0.9877097450803851, 0.7190857419965673, 0.07120426890834532, -0.1259772665834379, -0.6761330013392661, -0.6161106708099943] => 0 (expected 1)\n",
            "[1.8278131110412668, -0.18448200116622385, -3.572597239872642, -1.2882122129452358, -0.6928905722954675, 0.4197754884541404, -1.0204265305578488, -0.3608474114058894] => 1 (expected 0)\n",
            "[-0.5479185907225461, 2.38188391565377, 0.046245252836517724, 1.5345505361916747, 4.021921913768968, -0.18943688926222613, -0.9479436823013052, 1.6812586638269496] => 1 (expected 1)\n",
            "[1.2338801856003137, 0.12848945210450713, 1.3903867501284914, -1.2882122129452358, -0.6928905722954675, -4.060473872668307, -0.724454900176962, 1.7663464169616512] => 0 (expected 1)\n"
          ],
          "name": "stdout"
        }
      ]
    }
  ]
}