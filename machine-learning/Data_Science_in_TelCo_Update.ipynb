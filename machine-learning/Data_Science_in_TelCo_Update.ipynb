{
  "nbformat": 4,
  "nbformat_minor": 0,
  "metadata": {
    "colab": {
      "name": "Data Science in TelCo-Update.ipynb",
      "provenance": []
    },
    "kernelspec": {
      "name": "python3",
      "display_name": "Python 3"
    }
  },
  "cells": [
    {
      "cell_type": "markdown",
      "metadata": {
        "id": "NTn0-Znb50iB",
        "colab_type": "text"
      },
      "source": [
        "**DATA CLEANSING**"
      ]
    },
    {
      "cell_type": "code",
      "metadata": {
        "id": "N1Tk76l95u6T",
        "colab_type": "code",
        "colab": {}
      },
      "source": [
        "# import library\n",
        "import pandas as pd\n",
        "pd.options.display.max_columns = 50"
      ],
      "execution_count": 1,
      "outputs": []
    },
    {
      "cell_type": "code",
      "metadata": {
        "id": "B8IUlWUp6SFX",
        "colab_type": "code",
        "colab": {
          "base_uri": "https://localhost:8080/",
          "height": 710
        },
        "outputId": "34ea9aa0-582c-4d6f-8531-54cbf71cf596"
      },
      "source": [
        "# Import dataset\n",
        "df_load = pd.read_csv('https://dqlab-dataset.s3-ap-southeast-1.amazonaws.com/dqlab_telco.csv')\n",
        "\n",
        "# Jumlah baris dan kolom dataset\n",
        "print('Jumlah baris dan kolom data:',df_load.shape)\n",
        "\n",
        "# Tampilkan 5 data teratas\n",
        "print('\\n')\n",
        "print(df_load.head(5))\n",
        "\n",
        "# Tampilkan Jumlah ID unik\n",
        "print('\\nJumlah ID Unik:',df_load['customerID'].nunique())"
      ],
      "execution_count": 2,
      "outputs": [
        {
          "output_type": "stream",
          "text": [
            "Jumlah baris dan kolom data: (7113, 22)\n",
            "\n",
            "\n",
            "   UpdatedAt   customerID  gender  SeniorCitizen Partner Dependents  tenure  \\\n",
            "0     202006  45759018157  Female              0     Yes         No     1.0   \n",
            "1     202006  45557574145    Male              0      No         No    34.0   \n",
            "2     202006  45366876421    Male              0      No         No     2.0   \n",
            "3     202006  45779536532    Male              0      No         No    45.0   \n",
            "4     202006  45923787906  Female              0      No         No     2.0   \n",
            "\n",
            "  PhoneService     MultipleLines InternetService OnlineSecurity OnlineBackup  \\\n",
            "0           No  No phone service             DSL             No          Yes   \n",
            "1          Yes                No             DSL            Yes           No   \n",
            "2          Yes                No             DSL            Yes          Yes   \n",
            "3           No  No phone service             DSL            Yes           No   \n",
            "4          Yes                No     Fiber optic             No           No   \n",
            "\n",
            "  DeviceProtection TechSupport StreamingTV StreamingMovies        Contract  \\\n",
            "0               No          No          No              No  Month-to-month   \n",
            "1              Yes          No          No              No        One year   \n",
            "2               No          No          No              No  Month-to-month   \n",
            "3              Yes         Yes          No              No        One year   \n",
            "4               No          No          No              No  Month-to-month   \n",
            "\n",
            "  PaperlessBilling              PaymentMethod  MonthlyCharges  TotalCharges  \\\n",
            "0              Yes           Electronic check           29.85         29.85   \n",
            "1               No               Mailed check           56.95       1889.50   \n",
            "2              Yes               Mailed check           53.85        108.15   \n",
            "3               No  Bank transfer (automatic)           42.30       1840.75   \n",
            "4              Yes           Electronic check           70.70        151.65   \n",
            "\n",
            "  Churn  \n",
            "0    No  \n",
            "1    No  \n",
            "2   Yes  \n",
            "3    No  \n",
            "4   Yes  \n",
            "\n",
            "Jumlah ID Unik: 7017\n"
          ],
          "name": "stdout"
        }
      ]
    },
    {
      "cell_type": "code",
      "metadata": {
        "id": "otO6VNPl6yFr",
        "colab_type": "code",
        "colab": {
          "base_uri": "https://localhost:8080/",
          "height": 34
        },
        "outputId": "66e85fe0-78ca-4ee2-aa62-342bfc9070fb"
      },
      "source": [
        "# Filter ID Nomor Pelanggan dengan Format Tertentu\n",
        "df_load['valid_id'] = df_load['customerID'].astype(str).str.match(r'(45\\d{9,10})')\n",
        "df_load = (df_load[df_load['valid_id'] == True]).drop('valid_id', axis=1)\n",
        "print('Jumlah ID yang terfilter adalah', df_load['customerID'].count())"
      ],
      "execution_count": 3,
      "outputs": [
        {
          "output_type": "stream",
          "text": [
            "Jumlah ID yang terfilter adalah 7006\n"
          ],
          "name": "stdout"
        }
      ]
    },
    {
      "cell_type": "code",
      "metadata": {
        "id": "8a6F6MXY8O5s",
        "colab_type": "code",
        "colab": {
          "base_uri": "https://localhost:8080/",
          "height": 34
        },
        "outputId": "3b551606-d461-45c5-f34a-ee7c911a6550"
      },
      "source": [
        "# Filter Duplikasi ID Number Pelanggan\n",
        "df_load.drop_duplicates()\n",
        "\n",
        "df_load = df_load.sort_values('UpdatedAt', ascending=False).drop_duplicates(['customerID'])\n",
        "\n",
        "print('Hasil jumlah ID Customerr yang telah dihilangkan duplikasinya adalah', df_load['customerID'].count())"
      ],
      "execution_count": 4,
      "outputs": [
        {
          "output_type": "stream",
          "text": [
            "Hasil jumlah ID Customerr yang telah dihilangkan duplikasinya adalah 6993\n"
          ],
          "name": "stdout"
        }
      ]
    },
    {
      "cell_type": "code",
      "metadata": {
        "id": "TjX0ZqXv84fi",
        "colab_type": "code",
        "colab": {
          "base_uri": "https://localhost:8080/",
          "height": 70
        },
        "outputId": "c64cb93d-2505-4acf-8e73-3a68442c0566"
      },
      "source": [
        "# Menghilangkan Missing Values dengan Menghapus Rows\n",
        "print('Total missing values data dari kolom Churn adalah', df_load['Churn'].isnull().sum())\n",
        "\n",
        "df_load = df_load.dropna(subset=['Churn'])\n",
        "\n",
        "print('\\nTotal rows dan column Data setelah dihapus data missing values adalah', df_load.shape)"
      ],
      "execution_count": 5,
      "outputs": [
        {
          "output_type": "stream",
          "text": [
            "Total missing values data dari kolom Churn adalah 43\n",
            "\n",
            "Total rows dan column Data setelah dihapus data missing values adalah (6950, 22)\n"
          ],
          "name": "stdout"
        }
      ]
    },
    {
      "cell_type": "code",
      "metadata": {
        "id": "A4ER_2pL-8lZ",
        "colab_type": "code",
        "colab": {
          "base_uri": "https://localhost:8080/",
          "height": 1000
        },
        "outputId": "04746584-cb6f-4e0f-819d-f684b05d46cd"
      },
      "source": [
        "# Mengisi Missing Values dengan Pengisian nilai tertentu\n",
        "print('Status Missing Values adalah:', df_load.isnull().any())\n",
        "print('\\nJumlah Missing Values untuk setiap kolom adalah:', df_load.isnull().sum().sort_values(ascending=False))\n",
        "\n",
        "# Mengisi nilai missing value pada kolom 'tenure' dengan nilai 11\n",
        "df_load['tenure'].fillna(11, inplace=True)\n",
        "\n",
        "# Mengisi nilai missing value pada kolom 'MonthlyCharges' dan 'TotalCharges' dengan nilai median dari kedua kolom\n",
        "for col_name in (['MonthlyCharges','TotalCharges']):\n",
        "  median = df_load[col_name].median()\n",
        "  df_load[col_name].fillna(median, inplace=True)\n",
        "\n",
        "print('\\nJumlah Missing Values setelah di-imputer datanya adalah :')\n",
        "print(df_load.isnull().sum().sort_values(ascending=False))  "
      ],
      "execution_count": 6,
      "outputs": [
        {
          "output_type": "stream",
          "text": [
            "Status Missing Values adalah: UpdatedAt           False\n",
            "customerID          False\n",
            "gender              False\n",
            "SeniorCitizen       False\n",
            "Partner             False\n",
            "Dependents          False\n",
            "tenure               True\n",
            "PhoneService        False\n",
            "MultipleLines       False\n",
            "InternetService     False\n",
            "OnlineSecurity      False\n",
            "OnlineBackup        False\n",
            "DeviceProtection    False\n",
            "TechSupport         False\n",
            "StreamingTV         False\n",
            "StreamingMovies     False\n",
            "Contract            False\n",
            "PaperlessBilling    False\n",
            "PaymentMethod       False\n",
            "MonthlyCharges       True\n",
            "TotalCharges         True\n",
            "Churn               False\n",
            "dtype: bool\n",
            "\n",
            "Jumlah Missing Values untuk setiap kolom adalah: tenure              99\n",
            "MonthlyCharges      26\n",
            "TotalCharges        15\n",
            "Churn                0\n",
            "InternetService      0\n",
            "customerID           0\n",
            "gender               0\n",
            "SeniorCitizen        0\n",
            "Partner              0\n",
            "Dependents           0\n",
            "PhoneService         0\n",
            "MultipleLines        0\n",
            "OnlineSecurity       0\n",
            "OnlineBackup         0\n",
            "DeviceProtection     0\n",
            "TechSupport          0\n",
            "StreamingTV          0\n",
            "StreamingMovies      0\n",
            "Contract             0\n",
            "PaperlessBilling     0\n",
            "PaymentMethod        0\n",
            "UpdatedAt            0\n",
            "dtype: int64\n",
            "\n",
            "Jumlah Missing Values setelah di-imputer datanya adalah :\n",
            "Churn               0\n",
            "TotalCharges        0\n",
            "customerID          0\n",
            "gender              0\n",
            "SeniorCitizen       0\n",
            "Partner             0\n",
            "Dependents          0\n",
            "tenure              0\n",
            "PhoneService        0\n",
            "MultipleLines       0\n",
            "InternetService     0\n",
            "OnlineSecurity      0\n",
            "OnlineBackup        0\n",
            "DeviceProtection    0\n",
            "TechSupport         0\n",
            "StreamingTV         0\n",
            "StreamingMovies     0\n",
            "Contract            0\n",
            "PaperlessBilling    0\n",
            "PaymentMethod       0\n",
            "MonthlyCharges      0\n",
            "UpdatedAt           0\n",
            "dtype: int64\n"
          ],
          "name": "stdout"
        }
      ]
    },
    {
      "cell_type": "code",
      "metadata": {
        "id": "qA6yBOPUA5wo",
        "colab_type": "code",
        "colab": {
          "base_uri": "https://localhost:8080/",
          "height": 1000
        },
        "outputId": "4faf8818-ad0b-4345-e409-ef1c2fddc46a"
      },
      "source": [
        "# Deteksi Outlier\n",
        "print('Persebaran data sebelum dihilangkan Outlier : ')\n",
        "print(df_load[['tenure','MonthlyCharges','TotalCharges']].describe())\n",
        "\n",
        "# Membuat Box Plot\n",
        "import matplotlib.pyplot as plt\n",
        "import seaborn as sns\n",
        "\n",
        "# Box Plot untuk kolom 'tenure'\n",
        "plt.figure()\n",
        "sns.boxplot(x=df_load['tenure'])\n",
        "plt.show()\n",
        "\n",
        "# Box Plot untuk kolom 'MonthlyCharges'\n",
        "plt.figure()\n",
        "sns.boxplot(x=df_load['MonthlyCharges'])\n",
        "plt.show()\n",
        "\n",
        "# Box Plot untuk kolom 'TotalCharges'\n",
        "plt.figure()\n",
        "sns.boxplot(x=df_load['TotalCharges'])\n",
        "plt.show()"
      ],
      "execution_count": 7,
      "outputs": [
        {
          "output_type": "stream",
          "text": [
            "Persebaran data sebelum dihilangkan Outlier : \n",
            "            tenure  MonthlyCharges  TotalCharges\n",
            "count  6950.000000     6950.000000   6950.000000\n",
            "mean     32.477266       65.783741   2305.083460\n",
            "std      25.188910       50.457871   2578.651143\n",
            "min       0.000000        0.000000     19.000000\n",
            "25%       9.000000       36.462500    406.975000\n",
            "50%      29.000000       70.450000   1400.850000\n",
            "75%      55.000000       89.850000   3799.837500\n",
            "max     500.000000     2311.000000  80000.000000\n"
          ],
          "name": "stdout"
        },
        {
          "output_type": "stream",
          "text": [
            "/usr/local/lib/python3.6/dist-packages/statsmodels/tools/_testing.py:19: FutureWarning: pandas.util.testing is deprecated. Use the functions in the public API at pandas.testing instead.\n",
            "  import pandas.util.testing as tm\n"
          ],
          "name": "stderr"
        },
        {
          "output_type": "display_data",
          "data": {
            "image/png": "[encoded data removed]",
            "text/plain": [
              "<Figure size 432x288 with 1 Axes>"
            ]
          },
          "metadata": {
            "tags": [],
            "needs_background": "light"
          }
        },
        {
          "output_type": "display_data",
          "data": {
            "image/png": "[encoded data removed]",
            "text/plain": [
              "<Figure size 432x288 with 1 Axes>"
            ]
          },
          "metadata": {
            "tags": [],
            "needs_background": "light"
          }
        },
        {
          "output_type": "display_data",
          "data": {
            "image/png": "[encoded data removed]",
            "text/plain": [
              "<Figure size 432x288 with 1 Axes>"
            ]
          },
          "metadata": {
            "tags": [],
            "needs_background": "light"
          }
        }
      ]
    },
    {
      "cell_type": "code",
      "metadata": {
        "id": "qBllH4kgCO1y",
        "colab_type": "code",
        "colab": {
          "base_uri": "https://localhost:8080/",
          "height": 407
        },
        "outputId": "debbab27-44ce-47d3-e9d4-b299eebd5232"
      },
      "source": [
        "# Menghilangkan Outlier\n",
        "\n",
        "# Menghitung Q1 dan Q3\n",
        "Q1 = (df_load[['tenure','MonthlyCharges','TotalCharges']].quantile(0.25))\n",
        "Q3 = (df_load[['tenure','MonthlyCharges','TotalCharges']].quantile(0.75))\n",
        "\n",
        "IQR = Q3 - Q1\n",
        "\n",
        "maximum = Q3 + (1.5 * IQR)\n",
        "print('Nilai maksimum dari masing-masing variabel adalah :')\n",
        "print(maximum)\n",
        "minimum = Q1 - (1.5 * IQR)\n",
        "print('\\nNilai minimum dari masing-masing variabel adalah :')\n",
        "print(minimum)\n",
        "\n",
        "more_than = (df_load > maximum)\n",
        "lower_than = (df_load < minimum)\n",
        "df_load = df_load.mask(more_than, maximum, axis=1)\n",
        "df_load = df_load.mask(lower_than, minimum, axis=1)\n",
        "\n",
        "print('\\nPersebaran nilai data setelah dihilangkan Outlier :')\n",
        "print(df_load[['tenure','MonthlyCharges','TotalCharges']].describe())"
      ],
      "execution_count": 8,
      "outputs": [
        {
          "output_type": "stream",
          "text": [
            "Nilai maksimum dari masing-masing variabel adalah :\n",
            "tenure             124.00000\n",
            "MonthlyCharges     169.93125\n",
            "TotalCharges      8889.13125\n",
            "dtype: float64\n",
            "\n",
            "Nilai minimum dari masing-masing variabel adalah :\n",
            "tenure             -60.00000\n",
            "MonthlyCharges     -43.61875\n",
            "TotalCharges     -4682.31875\n",
            "dtype: float64\n",
            "\n",
            "Persebaran nilai data setelah dihilangkan Outlier :\n",
            "            tenure  MonthlyCharges  TotalCharges\n",
            "count  6950.000000     6950.000000   6950.000000\n",
            "mean     32.423165       64.992201   2286.058750\n",
            "std      24.581073       30.032040   2265.702553\n",
            "min       0.000000        0.000000     19.000000\n",
            "25%       9.000000       36.462500    406.975000\n",
            "50%      29.000000       70.450000   1400.850000\n",
            "75%      55.000000       89.850000   3799.837500\n",
            "max     124.000000      169.931250   8889.131250\n"
          ],
          "name": "stdout"
        }
      ]
    },
    {
      "cell_type": "code",
      "metadata": {
        "id": "OzdIphK_RNRl",
        "colab_type": "code",
        "colab": {
          "base_uri": "https://localhost:8080/",
          "height": 1000
        },
        "outputId": "915f1da4-578a-48bf-8ae8-fde38a62ffe5"
      },
      "source": [
        "# Mendeteksi Nilai yang Tidak Standar\n",
        "for col_name in list(['gender','SeniorCitizen','Partner','Dependents','PhoneService','MultipleLines',\n",
        "                      'InternetService','OnlineSecurity','OnlineBackup','DeviceProtection','TechSupport','StreamingTV',\n",
        "                      'StreamingMovies','Contract','PaperlessBilling','PaymentMethod','Churn']):\n",
        "  print('\\nUnique Values Count\\033[1m'+' Before Standardized\\033[0m Variable', col_name)\n",
        "  print(df_load[col_name].value_counts())"
      ],
      "execution_count": 9,
      "outputs": [
        {
          "output_type": "stream",
          "text": [
            "\n",
            "Unique Values Count\u001b[1m Before Standardized\u001b[0m Variable gender\n",
            "Male         3499\n",
            "Female       3431\n",
            "Wanita         14\n",
            "Laki-Laki       6\n",
            "Name: gender, dtype: int64\n",
            "\n",
            "Unique Values Count\u001b[1m Before Standardized\u001b[0m Variable SeniorCitizen\n",
            "0    5822\n",
            "1    1128\n",
            "Name: SeniorCitizen, dtype: int64\n",
            "\n",
            "Unique Values Count\u001b[1m Before Standardized\u001b[0m Variable Partner\n",
            "No     3591\n",
            "Yes    3359\n",
            "Name: Partner, dtype: int64\n",
            "\n",
            "Unique Values Count\u001b[1m Before Standardized\u001b[0m Variable Dependents\n",
            "No     4870\n",
            "Yes    2060\n",
            "Iya      20\n",
            "Name: Dependents, dtype: int64\n",
            "\n",
            "Unique Values Count\u001b[1m Before Standardized\u001b[0m Variable PhoneService\n",
            "Yes    6281\n",
            "No      669\n",
            "Name: PhoneService, dtype: int64\n",
            "\n",
            "Unique Values Count\u001b[1m Before Standardized\u001b[0m Variable MultipleLines\n",
            "No                  3346\n",
            "Yes                 2935\n",
            "No phone service     669\n",
            "Name: MultipleLines, dtype: int64\n",
            "\n",
            "Unique Values Count\u001b[1m Before Standardized\u001b[0m Variable InternetService\n",
            "Fiber optic    3057\n",
            "DSL            2388\n",
            "No             1505\n",
            "Name: InternetService, dtype: int64\n",
            "\n",
            "Unique Values Count\u001b[1m Before Standardized\u001b[0m Variable OnlineSecurity\n",
            "No                     3454\n",
            "Yes                    1991\n",
            "No internet service    1505\n",
            "Name: OnlineSecurity, dtype: int64\n",
            "\n",
            "Unique Values Count\u001b[1m Before Standardized\u001b[0m Variable OnlineBackup\n",
            "No                     3045\n",
            "Yes                    2400\n",
            "No internet service    1505\n",
            "Name: OnlineBackup, dtype: int64\n",
            "\n",
            "Unique Values Count\u001b[1m Before Standardized\u001b[0m Variable DeviceProtection\n",
            "No                     3054\n",
            "Yes                    2391\n",
            "No internet service    1505\n",
            "Name: DeviceProtection, dtype: int64\n",
            "\n",
            "Unique Values Count\u001b[1m Before Standardized\u001b[0m Variable TechSupport\n",
            "No                     3431\n",
            "Yes                    2014\n",
            "No internet service    1505\n",
            "Name: TechSupport, dtype: int64\n",
            "\n",
            "Unique Values Count\u001b[1m Before Standardized\u001b[0m Variable StreamingTV\n",
            "No                     2774\n",
            "Yes                    2671\n",
            "No internet service    1505\n",
            "Name: StreamingTV, dtype: int64\n",
            "\n",
            "Unique Values Count\u001b[1m Before Standardized\u001b[0m Variable StreamingMovies\n",
            "No                     2747\n",
            "Yes                    2698\n",
            "No internet service    1505\n",
            "Name: StreamingMovies, dtype: int64\n",
            "\n",
            "Unique Values Count\u001b[1m Before Standardized\u001b[0m Variable Contract\n",
            "Month-to-month    3823\n",
            "Two year          1670\n",
            "One year          1457\n",
            "Name: Contract, dtype: int64\n",
            "\n",
            "Unique Values Count\u001b[1m Before Standardized\u001b[0m Variable PaperlessBilling\n",
            "Yes    4114\n",
            "No     2836\n",
            "Name: PaperlessBilling, dtype: int64\n",
            "\n",
            "Unique Values Count\u001b[1m Before Standardized\u001b[0m Variable PaymentMethod\n",
            "Electronic check             2337\n",
            "Mailed check                 1594\n",
            "Bank transfer (automatic)    1519\n",
            "Credit card (automatic)      1500\n",
            "Name: PaymentMethod, dtype: int64\n",
            "\n",
            "Unique Values Count\u001b[1m Before Standardized\u001b[0m Variable Churn\n",
            "No       5114\n",
            "Yes      1827\n",
            "Churn       9\n",
            "Name: Churn, dtype: int64\n"
          ],
          "name": "stdout"
        }
      ]
    },
    {
      "cell_type": "code",
      "metadata": {
        "id": "HhxixIJ0h5Ns",
        "colab_type": "code",
        "colab": {
          "base_uri": "https://localhost:8080/",
          "height": 283
        },
        "outputId": "5dd7ed42-af87-4448-ccb2-a9a193693fec"
      },
      "source": [
        "# Standarisasi Variable Kategorik\n",
        "\n",
        "df_load = df_load.replace(to_replace=['Wanita','Laki-Laki','Iya','Churn'], value=['Female','Male','Yes','Yes'])\n",
        "\n",
        "for col_name in list(['gender','Dependents','Churn']):\n",
        "  print('\\nUnique Values Count\\033[1m'+' After Standardized\\033[0m Variable', col_name)\n",
        "  print(df_load[col_name].value_counts())"
      ],
      "execution_count": 10,
      "outputs": [
        {
          "output_type": "stream",
          "text": [
            "\n",
            "Unique Values Count\u001b[1m After Standardized\u001b[0m Variable gender\n",
            "Male      3505\n",
            "Female    3445\n",
            "Name: gender, dtype: int64\n",
            "\n",
            "Unique Values Count\u001b[1m After Standardized\u001b[0m Variable Dependents\n",
            "No     4870\n",
            "Yes    2080\n",
            "Name: Dependents, dtype: int64\n",
            "\n",
            "Unique Values Count\u001b[1m After Standardized\u001b[0m Variable Churn\n",
            "No     5114\n",
            "Yes    1836\n",
            "Name: Churn, dtype: int64\n"
          ],
          "name": "stdout"
        }
      ]
    },
    {
      "cell_type": "code",
      "metadata": {
        "id": "nnldJrhy1hqe",
        "colab_type": "code",
        "colab": {}
      },
      "source": [
        "# Exploratory Data Analysis"
      ],
      "execution_count": 11,
      "outputs": []
    },
    {
      "cell_type": "code",
      "metadata": {
        "id": "xNLKY_mr1uEX",
        "colab_type": "code",
        "colab": {
          "base_uri": "https://localhost:8080/",
          "height": 334
        },
        "outputId": "b6212d1d-e360-4d70-ec80-fd5fa7ee2575"
      },
      "source": [
        "# Visualisasi Persentase Churn\n",
        "\n",
        "import numpy as np\n",
        "\n",
        "fig = plt.figure()\n",
        "ax = fig.add_axes([0,0,1,1])\n",
        "ax.axis('equal')\n",
        "labels = ['No','Yes']\n",
        "churn = df_load['Churn'].value_counts()\n",
        "ax.pie(churn, labels=labels, autopct='%.0f%%')\n",
        "plt.title('Percentage of Churn Customer')\n",
        "plt.show()"
      ],
      "execution_count": 14,
      "outputs": [
        {
          "output_type": "display_data",
          "data": {
            "image/png": "[encoded data removed]",
            "text/plain": [
              "<Figure size 432x288 with 1 Axes>"
            ]
          },
          "metadata": {
            "tags": []
          }
        }
      ]
    },
    {
      "cell_type": "code",
      "metadata": {
        "id": "7-4ST2Te2Jl7",
        "colab_type": "code",
        "colab": {
          "base_uri": "https://localhost:8080/",
          "height": 390
        },
        "outputId": "db44d9e0-95c5-4e56-a281-735dd63dc561"
      },
      "source": [
        "# EDA Variabel Numerik ('MonthlyCharges','TotalCharges','tenure')\n",
        "\n",
        "numerical_features = ['MonthlyCharges','TotalCharges','tenure']\n",
        "fig, ax = plt.subplots(1, 3, figsize=(15, 6))\n",
        "df_load[df_load.Churn=='No'][numerical_features].hist(bins=20, color='blue', alpha=0.5, ax=ax)\n",
        "df_load[df_load.Churn=='Yes'][numerical_features].hist(bins=20, color='orange', alpha=0.5, ax=ax)\n",
        "plt.show()"
      ],
      "execution_count": 15,
      "outputs": [
        {
          "output_type": "display_data",
          "data": {
            "image/png": "[encoded data removed]",
            "text/plain": [
              "<Figure size 1080x432 with 3 Axes>"
            ]
          },
          "metadata": {
            "tags": [],
            "needs_background": "light"
          }
        }
      ]
    },
    {
      "cell_type": "code",
      "metadata": {
        "id": "n3mN9_Sl2r9O",
        "colab_type": "code",
        "colab": {
          "base_uri": "https://localhost:8080/",
          "height": 873
        },
        "outputId": "05cc0204-db82-49f0-e414-c083dda304f7"
      },
      "source": [
        "# EDA Variabel Kategorik ('gender','Partner','SeniorCitizen','PhoneService','StreamingTV','InternetService','PaperlessBilling')\n",
        "\n",
        "fig, ax = plt.subplots(3, 3, figsize=(14, 12))\n",
        "sns.countplot(data=df_load, x='gender', hue='Churn', ax=ax[0][0])\n",
        "sns.countplot(data=df_load, x='Partner', hue='Churn', ax=ax[0][1])\n",
        "sns.countplot(data=df_load, x='SeniorCitizen', hue='Churn', ax=ax[0][2])\n",
        "sns.countplot(data=df_load, x='PhoneService', hue='Churn', ax=ax[1][0])\n",
        "sns.countplot(data=df_load, x='StreamingTV', hue='Churn', ax=ax[1][1])\n",
        "sns.countplot(data=df_load, x='InternetService', hue='Churn', ax=ax[1][2])\n",
        "sns.countplot(data=df_load, x='PaperlessBilling', hue='Churn', ax=ax[2][1])\n",
        "plt.tight_layout()\n",
        "plt.show()"
      ],
      "execution_count": 16,
      "outputs": [
        {
          "output_type": "display_data",
          "data": {
            "image/png": "[encoded data removed]",
            "text/plain": [
              "<Figure size 1008x864 with 9 Axes>"
            ]
          },
          "metadata": {
            "tags": [],
            "needs_background": "light"
          }
        }
      ]
    },
    {
      "cell_type": "code",
      "metadata": {
        "id": "7MIwPXdB3FSl",
        "colab_type": "code",
        "colab": {}
      },
      "source": [
        "# PreProcessing Data"
      ],
      "execution_count": 17,
      "outputs": []
    },
    {
      "cell_type": "code",
      "metadata": {
        "id": "5SX9NL7I3NSY",
        "colab_type": "code",
        "colab": {
          "base_uri": "https://localhost:8080/",
          "height": 745
        },
        "outputId": "f74463f5-2f11-4b40-a1e8-99aa3b2ca778"
      },
      "source": [
        "# Menghapus Kolom yang Tidak Diperlukan\n",
        "\n",
        "cleaned_df = df_load.drop(['customerID','UpdatedAt'], axis=1)\n",
        "print(cleaned_df.head())"
      ],
      "execution_count": 18,
      "outputs": [
        {
          "output_type": "stream",
          "text": [
            "      gender  SeniorCitizen Partner Dependents  tenure PhoneService  \\\n",
            "0     Female              0     Yes         No     1.0           No   \n",
            "4727    Male              0     Yes         No    60.0          Yes   \n",
            "4738    Male              0      No         No     5.0          Yes   \n",
            "4737  Female              0     Yes         No    72.0          Yes   \n",
            "4736  Female              0     Yes        Yes    56.0          Yes   \n",
            "\n",
            "         MultipleLines InternetService       OnlineSecurity  \\\n",
            "0     No phone service             DSL                   No   \n",
            "4727                No              No  No internet service   \n",
            "4738               Yes     Fiber optic                   No   \n",
            "4737               Yes     Fiber optic                  Yes   \n",
            "4736               Yes             DSL                  Yes   \n",
            "\n",
            "             OnlineBackup     DeviceProtection          TechSupport  \\\n",
            "0                     Yes                   No                   No   \n",
            "4727  No internet service  No internet service  No internet service   \n",
            "4738                  Yes                  Yes                   No   \n",
            "4737                  Yes                  Yes                  Yes   \n",
            "4736                  Yes                  Yes                  Yes   \n",
            "\n",
            "              StreamingTV      StreamingMovies        Contract  \\\n",
            "0                      No                   No  Month-to-month   \n",
            "4727  No internet service  No internet service        Two year   \n",
            "4738                  Yes                  Yes  Month-to-month   \n",
            "4737                  Yes                  Yes        Two year   \n",
            "4736                  Yes                   No        Two year   \n",
            "\n",
            "     PaperlessBilling              PaymentMethod  MonthlyCharges  \\\n",
            "0                 Yes           Electronic check           29.85   \n",
            "4727              Yes  Bank transfer (automatic)           20.50   \n",
            "4738               No               Mailed check          104.10   \n",
            "4737              Yes  Bank transfer (automatic)          115.50   \n",
            "4736               No    Credit card (automatic)           81.25   \n",
            "\n",
            "      TotalCharges Churn  \n",
            "0            29.85    No  \n",
            "4727       1198.80    No  \n",
            "4738        541.90   Yes  \n",
            "4737       8312.75    No  \n",
            "4736       4620.40    No  \n"
          ],
          "name": "stdout"
        }
      ]
    },
    {
      "cell_type": "code",
      "metadata": {
        "id": "FTO5SLJ43Vgt",
        "colab_type": "code",
        "colab": {
          "base_uri": "https://localhost:8080/",
          "height": 887
        },
        "outputId": "e84371fb-d5a1-4e1c-e76b-f536464e1380"
      },
      "source": [
        "# Encoding Data\n",
        "from sklearn.preprocessing import LabelEncoder\n",
        "\n",
        "for column in cleaned_df.columns:\n",
        "  if cleaned_df[column].dtype == np.number : continue\n",
        "  cleaned_df[column] = LabelEncoder().fit_transform(cleaned_df[column])\n",
        "\n",
        "print(cleaned_df.describe())  "
      ],
      "execution_count": 19,
      "outputs": [
        {
          "output_type": "stream",
          "text": [
            "            gender  SeniorCitizen      Partner   Dependents       tenure  \\\n",
            "count  6950.000000    6950.000000  6950.000000  6950.000000  6950.000000   \n",
            "mean      0.504317       0.162302     0.483309     0.299281    32.423165   \n",
            "std       0.500017       0.368754     0.499757     0.457976    24.581073   \n",
            "min       0.000000       0.000000     0.000000     0.000000     0.000000   \n",
            "25%       0.000000       0.000000     0.000000     0.000000     9.000000   \n",
            "50%       1.000000       0.000000     0.000000     0.000000    29.000000   \n",
            "75%       1.000000       0.000000     1.000000     1.000000    55.000000   \n",
            "max       1.000000       1.000000     1.000000     1.000000   124.000000   \n",
            "\n",
            "       PhoneService  MultipleLines  InternetService  OnlineSecurity  \\\n",
            "count   6950.000000    6950.000000      6950.000000     6950.000000   \n",
            "mean       0.903741       0.940863         0.872950        0.789496   \n",
            "std        0.294967       0.948880         0.737618        0.859795   \n",
            "min        0.000000       0.000000         0.000000        0.000000   \n",
            "25%        1.000000       0.000000         0.000000        0.000000   \n",
            "50%        1.000000       1.000000         1.000000        1.000000   \n",
            "75%        1.000000       2.000000         1.000000        2.000000   \n",
            "max        1.000000       2.000000         2.000000        2.000000   \n",
            "\n",
            "       OnlineBackup  DeviceProtection  TechSupport  StreamingTV  \\\n",
            "count   6950.000000       6950.000000  6950.000000  6950.000000   \n",
            "mean       0.907194          0.904604     0.796115     0.985180   \n",
            "std        0.880313          0.880037     0.861389     0.885069   \n",
            "min        0.000000          0.000000     0.000000     0.000000   \n",
            "25%        0.000000          0.000000     0.000000     0.000000   \n",
            "50%        1.000000          1.000000     1.000000     1.000000   \n",
            "75%        2.000000          2.000000     2.000000     2.000000   \n",
            "max        2.000000          2.000000     2.000000     2.000000   \n",
            "\n",
            "       StreamingMovies     Contract  PaperlessBilling  PaymentMethod  \\\n",
            "count      6950.000000  6950.000000       6950.000000    6950.000000   \n",
            "mean          0.992950     0.690216          0.591942       1.576403   \n",
            "std           0.885165     0.833363          0.491509       1.067780   \n",
            "min           0.000000     0.000000          0.000000       0.000000   \n",
            "25%           0.000000     0.000000          0.000000       1.000000   \n",
            "50%           1.000000     0.000000          1.000000       2.000000   \n",
            "75%           2.000000     1.000000          1.000000       2.000000   \n",
            "max           2.000000     2.000000          1.000000       3.000000   \n",
            "\n",
            "       MonthlyCharges  TotalCharges        Churn  \n",
            "count     6950.000000   6950.000000  6950.000000  \n",
            "mean        64.992201   2286.058750     0.264173  \n",
            "std         30.032040   2265.702553     0.440923  \n",
            "min          0.000000     19.000000     0.000000  \n",
            "25%         36.462500    406.975000     0.000000  \n",
            "50%         70.450000   1400.850000     0.000000  \n",
            "75%         89.850000   3799.837500     1.000000  \n",
            "max        169.931250   8889.131250     1.000000  \n"
          ],
          "name": "stdout"
        }
      ]
    },
    {
      "cell_type": "code",
      "metadata": {
        "id": "B61yscDm366j",
        "colab_type": "code",
        "colab": {
          "base_uri": "https://localhost:8080/",
          "height": 194
        },
        "outputId": "175c8022-75ff-49b2-98ec-0afd9b64ae6c"
      },
      "source": [
        "# Splitting Dataset\n",
        "from sklearn.model_selection import train_test_split\n",
        "\n",
        "X = cleaned_df.drop('Churn', axis=1)\n",
        "y = cleaned_df['Churn']\n",
        "\n",
        "x_train, x_test, y_train, y_test = train_test_split(X, y, test_size=0.3, random_state=42)\n",
        "\n",
        "print('Jumlah baris dan kolom dari x_train adalah:',x_train.shape,',sedangkan Jumlah baris dan kolom dari y_train adalah:',y_train.shape)\n",
        "print('Persentase Churn di data Training adalah:')\n",
        "print(y_train.value_counts(normalize=True))\n",
        "print('Jumlah baris dan kolom dari x_test adalah:',x_test.shape,',sedangkan Jumlah baris dan kolom dari y_test adalah:',y_test.shape)\n",
        "print('Persentase Churn di data Testing adalah:')\n",
        "print(y_test.value_counts(normalize=True))"
      ],
      "execution_count": 21,
      "outputs": [
        {
          "output_type": "stream",
          "text": [
            "Jumlah baris dan kolom dari x_train adalah: (4865, 19) ,sedangkan Jumlah baris dan kolom dari y_train adalah: (4865,)\n",
            "Persentase Churn di data Training adalah:\n",
            "0    0.734841\n",
            "1    0.265159\n",
            "Name: Churn, dtype: float64\n",
            "Jumlah baris dan kolom dari x_test adalah: (2085, 19) ,sedangkan Jumlah baris dan kolom dari y_test adalah: (2085,)\n",
            "Persentase Churn di data Testing adalah:\n",
            "0    0.738129\n",
            "1    0.261871\n",
            "Name: Churn, dtype: float64\n"
          ],
          "name": "stdout"
        }
      ]
    },
    {
      "cell_type": "code",
      "metadata": {
        "id": "ugfhcaBK4ke5",
        "colab_type": "code",
        "colab": {}
      },
      "source": [
        "# Creating Model"
      ],
      "execution_count": 22,
      "outputs": []
    },
    {
      "cell_type": "code",
      "metadata": {
        "id": "gH3JNVMv44eo",
        "colab_type": "code",
        "colab": {
          "base_uri": "https://localhost:8080/",
          "height": 265
        },
        "outputId": "e66dedb8-19b7-45fd-80fa-6b0b079f9858"
      },
      "source": [
        "# Modelling : Logistic Regression\n",
        "from sklearn.linear_model import LogisticRegression\n",
        "\n",
        "log_model = LogisticRegression().fit(x_train, y_train)\n",
        "print('Model Logistic Regression yang terbentuk adalah: \\n', log_model)"
      ],
      "execution_count": 23,
      "outputs": [
        {
          "output_type": "stream",
          "text": [
            "Model Logistic Regression yang terbentuk adalah: \n",
            " LogisticRegression(C=1.0, class_weight=None, dual=False, fit_intercept=True,\n",
            "                   intercept_scaling=1, l1_ratio=None, max_iter=100,\n",
            "                   multi_class='auto', n_jobs=None, penalty='l2',\n",
            "                   random_state=None, solver='lbfgs', tol=0.0001, verbose=0,\n",
            "                   warm_start=False)\n"
          ],
          "name": "stdout"
        },
        {
          "output_type": "stream",
          "text": [
            "/usr/local/lib/python3.6/dist-packages/sklearn/linear_model/_logistic.py:940: ConvergenceWarning: lbfgs failed to converge (status=1):\n",
            "STOP: TOTAL NO. of ITERATIONS REACHED LIMIT.\n",
            "\n",
            "Increase the number of iterations (max_iter) or scale the data as shown in:\n",
            "    https://scikit-learn.org/stable/modules/preprocessing.html\n",
            "Please also refer to the documentation for alternative solver options:\n",
            "    https://scikit-learn.org/stable/modules/linear_model.html#logistic-regression\n",
            "  extra_warning_msg=_LOGISTIC_SOLVER_CONVERGENCE_MSG)\n"
          ],
          "name": "stderr"
        }
      ]
    },
    {
      "cell_type": "code",
      "metadata": {
        "id": "IpoYM_1W5Izq",
        "colab_type": "code",
        "colab": {
          "base_uri": "https://localhost:8080/",
          "height": 194
        },
        "outputId": "895aecac-a246-4482-b798-68c7725d40c1"
      },
      "source": [
        "# Metrics Performance Model Training Data\n",
        "from sklearn.metrics import classification_report\n",
        "\n",
        "# Predict model based on training data\n",
        "y_train_pred = log_model.predict(x_train)\n",
        "\n",
        "# Result of Classification Report\n",
        "print('Classification Report Training Model (Logistic Regression):')\n",
        "print(classification_report(y_train, y_train_pred))"
      ],
      "execution_count": 24,
      "outputs": [
        {
          "output_type": "stream",
          "text": [
            "Classification Report Training Model (Logistic Regression):\n",
            "              precision    recall  f1-score   support\n",
            "\n",
            "           0       0.85      0.88      0.87      3575\n",
            "           1       0.64      0.57      0.60      1290\n",
            "\n",
            "    accuracy                           0.80      4865\n",
            "   macro avg       0.74      0.73      0.73      4865\n",
            "weighted avg       0.79      0.80      0.80      4865\n",
            "\n"
          ],
          "name": "stdout"
        }
      ]
    },
    {
      "cell_type": "code",
      "metadata": {
        "id": "vav-ogbN5y7u",
        "colab_type": "code",
        "colab": {
          "base_uri": "https://localhost:8080/",
          "height": 327
        },
        "outputId": "0f1d5668-c843-4b5a-bb96-058db0d84f59"
      },
      "source": [
        "# Visualization of Performance Model Training Data\n",
        "from sklearn.metrics import confusion_matrix\n",
        "\n",
        "# Form confusion_matrix as DataFrame\n",
        "confusion_matrix_df_lr = pd.DataFrame((confusion_matrix(y_train, y_train_pred)), ('No churn','Churn'), ('No churn','Churn'))\n",
        "\n",
        "# Plot confusion_matrix_df_lr\n",
        "plt.figure()\n",
        "heatmap = sns.heatmap(confusion_matrix_df_lr, annot=True, annot_kws={'size': 14}, fmt='d', cmap='YlGnBu')\n",
        "heatmap.yaxis.set_ticklabels(heatmap.yaxis.get_ticklabels(), rotation=0, ha='right', fontsize=14)\n",
        "heatmap.xaxis.set_ticklabels(heatmap.xaxis.get_ticklabels(), rotation=0, ha='right', fontsize=14)\n",
        "\n",
        "plt.title('Confusion Matrix for Training Model\\n(Logistic Regression)', fontsize=18, color='darkblue')\n",
        "plt.ylabel('True label', fontsize=14)\n",
        "plt.xlabel('Predicted label', fontsize=14)\n",
        "plt.show()"
      ],
      "execution_count": 25,
      "outputs": [
        {
          "output_type": "display_data",
          "data": {
            "image/png": "[encoded data removed]",
            "text/plain": [
              "<Figure size 432x288 with 2 Axes>"
            ]
          },
          "metadata": {
            "tags": [],
            "needs_background": "light"
          }
        }
      ]
    },
    {
      "cell_type": "code",
      "metadata": {
        "id": "-HMo-MjD62VO",
        "colab_type": "code",
        "colab": {
          "base_uri": "https://localhost:8080/",
          "height": 194
        },
        "outputId": "7353b1e9-4616-4778-862d-87b95b7323cb"
      },
      "source": [
        "# Metrics Performance Model Testing Data\n",
        "\n",
        "# Predict model based on testing data\n",
        "y_test_pred = log_model.predict(x_test)\n",
        "\n",
        "# Result of Classification Report\n",
        "print('Classification Report Training Model (Logistic Regression):')\n",
        "print(classification_report(y_test, y_test_pred))"
      ],
      "execution_count": 26,
      "outputs": [
        {
          "output_type": "stream",
          "text": [
            "Classification Report Training Model (Logistic Regression):\n",
            "              precision    recall  f1-score   support\n",
            "\n",
            "           0       0.85      0.90      0.87      1539\n",
            "           1       0.66      0.54      0.60       546\n",
            "\n",
            "    accuracy                           0.81      2085\n",
            "   macro avg       0.75      0.72      0.74      2085\n",
            "weighted avg       0.80      0.81      0.80      2085\n",
            "\n"
          ],
          "name": "stdout"
        }
      ]
    },
    {
      "cell_type": "code",
      "metadata": {
        "id": "upASOzW57MOx",
        "colab_type": "code",
        "colab": {
          "base_uri": "https://localhost:8080/",
          "height": 327
        },
        "outputId": "0293180f-00c7-4db5-d34f-fdf5a5048432"
      },
      "source": [
        "# Visualization of Performance Model Testing Data\n",
        "\n",
        "# Form confusion_matrix as DataFrame\n",
        "confusion_matrix_df_lrtest = pd.DataFrame((confusion_matrix(y_test, y_test_pred)), ('No churn','Churn'), ('No churn','Churn'))\n",
        "\n",
        "# Plot confusion_matrix_df_lrtest\n",
        "plt.figure()\n",
        "heatmap = sns.heatmap(confusion_matrix_df_lrtest, annot=True, annot_kws={'size': 14}, fmt='d', cmap='YlGnBu')\n",
        "heatmap.yaxis.set_ticklabels(heatmap.yaxis.get_ticklabels(), rotation=0, ha='right', fontsize=14)\n",
        "heatmap.xaxis.set_ticklabels(heatmap.xaxis.get_ticklabels(), rotation=0, ha='right', fontsize=14)\n",
        "\n",
        "plt.title('Confusion Matrix for Testing Model\\n(Logistic Regression)', fontsize=18, color='darkblue')\n",
        "plt.ylabel('True label', fontsize=14)\n",
        "plt.xlabel('Predicted label', fontsize=14)\n",
        "plt.show()"
      ],
      "execution_count": 27,
      "outputs": [
        {
          "output_type": "display_data",
          "data": {
            "image/png": "[encoded data removed]",
            "text/plain": [
              "<Figure size 432x288 with 2 Axes>"
            ]
          },
          "metadata": {
            "tags": [],
            "needs_background": "light"
          }
        }
      ]
    },
    {
      "cell_type": "code",
      "metadata": {
        "id": "Ty99H_bT7kce",
        "colab_type": "code",
        "colab": {
          "base_uri": "https://localhost:8080/",
          "height": 158
        },
        "outputId": "f4aafde9-1c81-4204-c792-0f257b131e5a"
      },
      "source": [
        "# Modelling : Random Forest Classifier\n",
        "from sklearn.ensemble import RandomForestClassifier\n",
        "\n",
        "rdf_model = RandomForestClassifier().fit(x_train,y_train)\n",
        "print(rdf_model)"
      ],
      "execution_count": 28,
      "outputs": [
        {
          "output_type": "stream",
          "text": [
            "RandomForestClassifier(bootstrap=True, ccp_alpha=0.0, class_weight=None,\n",
            "                       criterion='gini', max_depth=None, max_features='auto',\n",
            "                       max_leaf_nodes=None, max_samples=None,\n",
            "                       min_impurity_decrease=0.0, min_impurity_split=None,\n",
            "                       min_samples_leaf=1, min_samples_split=2,\n",
            "                       min_weight_fraction_leaf=0.0, n_estimators=100,\n",
            "                       n_jobs=None, oob_score=False, random_state=None,\n",
            "                       verbose=0, warm_start=False)\n"
          ],
          "name": "stdout"
        }
      ]
    },
    {
      "cell_type": "code",
      "metadata": {
        "id": "bxt73SE47_L_",
        "colab_type": "code",
        "colab": {
          "base_uri": "https://localhost:8080/",
          "height": 194
        },
        "outputId": "d7c696b2-d32c-4b85-b81c-17398aef2a95"
      },
      "source": [
        "# Metrics Performance Model Training Data\n",
        "\n",
        "# Predict model based on training data\n",
        "y_train_pred = rdf_model.predict(x_train)\n",
        "\n",
        "# Result of Classification Report\n",
        "print('Classification Report Training Model (Random Forest Classifier):')\n",
        "print(classification_report(y_train, y_train_pred))"
      ],
      "execution_count": 29,
      "outputs": [
        {
          "output_type": "stream",
          "text": [
            "Classification Report Training Model (Random Forest Classifier):\n",
            "              precision    recall  f1-score   support\n",
            "\n",
            "           0       1.00      1.00      1.00      3575\n",
            "           1       1.00      1.00      1.00      1290\n",
            "\n",
            "    accuracy                           1.00      4865\n",
            "   macro avg       1.00      1.00      1.00      4865\n",
            "weighted avg       1.00      1.00      1.00      4865\n",
            "\n"
          ],
          "name": "stdout"
        }
      ]
    },
    {
      "cell_type": "code",
      "metadata": {
        "id": "jS9-xiLn8V2b",
        "colab_type": "code",
        "colab": {
          "base_uri": "https://localhost:8080/",
          "height": 327
        },
        "outputId": "4c580823-4366-4ba3-fdcb-6dba4a2e60cc"
      },
      "source": [
        "# Visualization of Performance Model Training Data\n",
        "\n",
        "# Form confusion_matrix as DataFrame\n",
        "confusion_matrix_df_rf = pd.DataFrame((confusion_matrix(y_train, y_train_pred)), ('No churn','Churn'), ('No churn','Churn'))\n",
        "\n",
        "# Plot confusion_matrix_df_rf\n",
        "plt.figure()\n",
        "heatmap = sns.heatmap(confusion_matrix_df_rf, annot=True, annot_kws={'size': 14}, fmt='d', cmap='YlGnBu')\n",
        "heatmap.yaxis.set_ticklabels(heatmap.yaxis.get_ticklabels(), rotation=0, ha='right', fontsize=14)\n",
        "heatmap.xaxis.set_ticklabels(heatmap.xaxis.get_ticklabels(), rotation=0, ha='right', fontsize=14)\n",
        "\n",
        "plt.title('Confusion Matrix for Training Model\\n(Random Forest Classifier)', fontsize=18, color='darkblue')\n",
        "plt.ylabel('True label', fontsize=14)\n",
        "plt.xlabel('Predicted label', fontsize=14)\n",
        "plt.show()"
      ],
      "execution_count": 30,
      "outputs": [
        {
          "output_type": "display_data",
          "data": {
            "image/png": "[encoded data removed]",
            "text/plain": [
              "<Figure size 432x288 with 2 Axes>"
            ]
          },
          "metadata": {
            "tags": [],
            "needs_background": "light"
          }
        }
      ]
    },
    {
      "cell_type": "code",
      "metadata": {
        "id": "F1GfwXvv8vj5",
        "colab_type": "code",
        "colab": {
          "base_uri": "https://localhost:8080/",
          "height": 194
        },
        "outputId": "adf2e21e-829c-4bc8-aab1-43252997a05a"
      },
      "source": [
        "# Metrics Performance Model Testing Data\n",
        "\n",
        "# Predict model based on testing data\n",
        "y_test_pred = rdf_model.predict(x_test)\n",
        "\n",
        "# Result of Classification Report\n",
        "print('Classification Report Testing Model (Random Forest Classifier):')\n",
        "print(classification_report(y_test, y_test_pred))"
      ],
      "execution_count": 31,
      "outputs": [
        {
          "output_type": "stream",
          "text": [
            "Classification Report Testing Model (Random Forest Classifier):\n",
            "              precision    recall  f1-score   support\n",
            "\n",
            "           0       0.83      0.91      0.87      1539\n",
            "           1       0.65      0.47      0.54       546\n",
            "\n",
            "    accuracy                           0.79      2085\n",
            "   macro avg       0.74      0.69      0.71      2085\n",
            "weighted avg       0.78      0.79      0.78      2085\n",
            "\n"
          ],
          "name": "stdout"
        }
      ]
    },
    {
      "cell_type": "code",
      "metadata": {
        "id": "sTwTFiZe9DHf",
        "colab_type": "code",
        "colab": {
          "base_uri": "https://localhost:8080/",
          "height": 327
        },
        "outputId": "fd09b27f-00dd-4e12-fafb-495aa13e2f61"
      },
      "source": [
        "# Visualization of Performance Model Testing Data\n",
        "\n",
        "# Form confusion_matrix as DataFrame\n",
        "confusion_matrix_df_rft = pd.DataFrame((confusion_matrix(y_train, y_train_pred)), ('No churn','Churn'), ('No churn','Churn'))\n",
        "\n",
        "# Plot confusion_matrix_df_rf\n",
        "plt.figure()\n",
        "heatmap = sns.heatmap(confusion_matrix_df_rft, annot=True, annot_kws={'size': 14}, fmt='d', cmap='YlGnBu')\n",
        "heatmap.yaxis.set_ticklabels(heatmap.yaxis.get_ticklabels(), rotation=0, ha='right', fontsize=14)\n",
        "heatmap.xaxis.set_ticklabels(heatmap.xaxis.get_ticklabels(), rotation=0, ha='right', fontsize=14)\n",
        "\n",
        "plt.title('Confusion Matrix for Testing Model\\n(Random Forest Classifier)', fontsize=18, color='darkblue')\n",
        "plt.ylabel('True label', fontsize=14)\n",
        "plt.xlabel('Predicted label', fontsize=14)\n",
        "plt.show()"
      ],
      "execution_count": 32,
      "outputs": [
        {
          "output_type": "display_data",
          "data": {
            "image/png": "[encoded data removed]",
            "text/plain": [
              "<Figure size 432x288 with 2 Axes>"
            ]
          },
          "metadata": {
            "tags": [],
            "needs_background": "light"
          }
        }
      ]
    },
    {
      "cell_type": "code",
      "metadata": {
        "id": "mMw9ONjE_fvk",
        "colab_type": "code",
        "colab": {
          "base_uri": "https://localhost:8080/",
          "height": 194
        },
        "outputId": "7c602cde-3cf6-4d70-bd74-60a5d1b87bfd"
      },
      "source": [
        "# Modelling : Gradient Boosting Classifier\n",
        "from sklearn.ensemble import GradientBoostingClassifier\n",
        "\n",
        "gbt_model = GradientBoostingClassifier().fit(x_train,y_train)\n",
        "print(gbt_model)"
      ],
      "execution_count": 33,
      "outputs": [
        {
          "output_type": "stream",
          "text": [
            "GradientBoostingClassifier(ccp_alpha=0.0, criterion='friedman_mse', init=None,\n",
            "                           learning_rate=0.1, loss='deviance', max_depth=3,\n",
            "                           max_features=None, max_leaf_nodes=None,\n",
            "                           min_impurity_decrease=0.0, min_impurity_split=None,\n",
            "                           min_samples_leaf=1, min_samples_split=2,\n",
            "                           min_weight_fraction_leaf=0.0, n_estimators=100,\n",
            "                           n_iter_no_change=None, presort='deprecated',\n",
            "                           random_state=None, subsample=1.0, tol=0.0001,\n",
            "                           validation_fraction=0.1, verbose=0,\n",
            "                           warm_start=False)\n"
          ],
          "name": "stdout"
        }
      ]
    },
    {
      "cell_type": "code",
      "metadata": {
        "id": "UvilyOx0_2DI",
        "colab_type": "code",
        "colab": {
          "base_uri": "https://localhost:8080/",
          "height": 194
        },
        "outputId": "6ec7ef90-1a6a-45a2-a70a-39536382f7af"
      },
      "source": [
        "# Metrics Performance Model Training Data\n",
        "\n",
        "# Predict model based on training data\n",
        "y_train_pred = gbt_model.predict(x_train)\n",
        "\n",
        "# Result of Classification Report\n",
        "print('Classification Report Training Model (Gradient Boosting Classifier):')\n",
        "print(classification_report(y_train, y_train_pred))"
      ],
      "execution_count": 34,
      "outputs": [
        {
          "output_type": "stream",
          "text": [
            "Classification Report Training Model (Gradient Boosting Classifier):\n",
            "              precision    recall  f1-score   support\n",
            "\n",
            "           0       0.86      0.92      0.89      3575\n",
            "           1       0.73      0.58      0.64      1290\n",
            "\n",
            "    accuracy                           0.83      4865\n",
            "   macro avg       0.79      0.75      0.77      4865\n",
            "weighted avg       0.82      0.83      0.82      4865\n",
            "\n"
          ],
          "name": "stdout"
        }
      ]
    },
    {
      "cell_type": "code",
      "metadata": {
        "id": "afHWnA9XAAgz",
        "colab_type": "code",
        "colab": {
          "base_uri": "https://localhost:8080/",
          "height": 327
        },
        "outputId": "0bd10205-a0d0-4dbd-c857-341e4e788797"
      },
      "source": [
        "# Visualization of Performance Model Training Data\n",
        "\n",
        "# Form confusion_matrix as DataFrame\n",
        "confusion_matrix_df_gb = pd.DataFrame((confusion_matrix(y_train, y_train_pred)), ('No churn','Churn'), ('No churn','Churn'))\n",
        "\n",
        "# Plot confusion_matrix_df_rf\n",
        "plt.figure()\n",
        "heatmap = sns.heatmap(confusion_matrix_df_gb, annot=True, annot_kws={'size': 14}, fmt='d', cmap='YlGnBu')\n",
        "heatmap.yaxis.set_ticklabels(heatmap.yaxis.get_ticklabels(), rotation=0, ha='right', fontsize=14)\n",
        "heatmap.xaxis.set_ticklabels(heatmap.xaxis.get_ticklabels(), rotation=0, ha='right', fontsize=14)\n",
        "\n",
        "plt.title('Confusion Matrix for Training Model\\n(Gradient Boosting Classifier)', fontsize=18, color='darkblue')\n",
        "plt.ylabel('True label', fontsize=14)\n",
        "plt.xlabel('Predicted label', fontsize=14)\n",
        "plt.show()"
      ],
      "execution_count": 35,
      "outputs": [
        {
          "output_type": "display_data",
          "data": {
            "image/png": "[encoded data removed]",
            "text/plain": [
              "<Figure size 432x288 with 2 Axes>"
            ]
          },
          "metadata": {
            "tags": [],
            "needs_background": "light"
          }
        }
      ]
    },
    {
      "cell_type": "code",
      "metadata": {
        "id": "lWmwliXfALPD",
        "colab_type": "code",
        "colab": {
          "base_uri": "https://localhost:8080/",
          "height": 194
        },
        "outputId": "3034d474-0d8f-4fc9-c68c-19e5b9e16db7"
      },
      "source": [
        "# Metrics Performance Model Testing Data\n",
        "\n",
        "# Predict model based on testing data\n",
        "y_test_pred = gbt_model.predict(x_test)\n",
        "\n",
        "# Result of Classification Report\n",
        "print('Classification Report Testing Model (Gradient Boosting Classifier):')\n",
        "print(classification_report(y_test, y_test_pred))"
      ],
      "execution_count": 36,
      "outputs": [
        {
          "output_type": "stream",
          "text": [
            "Classification Report Testing Model (Gradient Boosting Classifier):\n",
            "              precision    recall  f1-score   support\n",
            "\n",
            "           0       0.84      0.91      0.88      1539\n",
            "           1       0.68      0.51      0.59       546\n",
            "\n",
            "    accuracy                           0.81      2085\n",
            "   macro avg       0.76      0.71      0.73      2085\n",
            "weighted avg       0.80      0.81      0.80      2085\n",
            "\n"
          ],
          "name": "stdout"
        }
      ]
    },
    {
      "cell_type": "code",
      "metadata": {
        "id": "h2CCrXaeA6ul",
        "colab_type": "code",
        "colab": {
          "base_uri": "https://localhost:8080/",
          "height": 327
        },
        "outputId": "1684451e-ea22-43c6-8e15-c7debf87846c"
      },
      "source": [
        "# Visualization of Performance Model Testing Data\n",
        "\n",
        "# Form confusion_matrix as DataFrame\n",
        "confusion_matrix_df_gbt = pd.DataFrame((confusion_matrix(y_test, y_test_pred)), ('No churn','Churn'), ('No churn','Churn'))\n",
        "\n",
        "# Plot confusion_matrix_df_rf\n",
        "plt.figure()\n",
        "heatmap = sns.heatmap(confusion_matrix_df_gbt, annot=True, annot_kws={'size': 14}, fmt='d', cmap='YlGnBu')\n",
        "heatmap.yaxis.set_ticklabels(heatmap.yaxis.get_ticklabels(), rotation=0, ha='right', fontsize=14)\n",
        "heatmap.xaxis.set_ticklabels(heatmap.xaxis.get_ticklabels(), rotation=0, ha='right', fontsize=14)\n",
        "\n",
        "plt.title('Confusion Matrix for Testing Model\\n(Gradient Boosting Classifier)', fontsize=18, color='darkblue')\n",
        "plt.ylabel('True label', fontsize=14)\n",
        "plt.xlabel('Predicted label', fontsize=14)\n",
        "plt.show()"
      ],
      "execution_count": 37,
      "outputs": [
        {
          "output_type": "display_data",
          "data": {
            "image/png": "[encoded data removed]",
            "text/plain": [
              "<Figure size 432x288 with 2 Axes>"
            ]
          },
          "metadata": {
            "tags": [],
            "needs_background": "light"
          }
        }
      ]
    },
    {
      "cell_type": "code",
      "metadata": {
        "id": "utx2U5kyBPGy",
        "colab_type": "code",
        "colab": {}
      },
      "source": [
        ""
      ],
      "execution_count": null,
      "outputs": []
    }
  ]
}